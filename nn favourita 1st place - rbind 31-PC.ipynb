{
 "cells": [
  {
   "cell_type": "code",
   "execution_count": 1,
   "metadata": {},
   "outputs": [
    {
     "name": "stderr",
     "output_type": "stream",
     "text": [
      "Using TensorFlow backend.\n"
     ]
    }
   ],
   "source": [
    "from datetime import date, timedelta\n",
    "import pandas as pd\n",
    "import numpy as np\n",
    "from sklearn.preprocessing import LabelEncoder\n",
    "from sklearn.metrics import mean_squared_error\n",
    "from sklearn.preprocessing import StandardScaler\n",
    "from keras.models import Model, Sequential\n",
    "from keras.layers.core import Dense, Dropout, Activation, Reshape\n",
    "from keras.layers.advanced_activations import PReLU\n",
    "from keras.layers.normalization import BatchNormalization\n",
    "from keras.layers import LSTM\n",
    "from keras import callbacks\n",
    "from keras import optimizers\n",
    "from keras.callbacks import ModelCheckpoint, EarlyStopping, ReduceLROnPlateau\n",
    "from keras.layers.merge import concatenate\n",
    "from keras.layers import Input\n",
    "from keras.layers import Merge\n",
    "from keras.layers.embeddings import Embedding\n",
    "import h5py\n",
    "import gc"
   ]
  },
  {
   "cell_type": "code",
   "execution_count": 2,
   "metadata": {
    "collapsed": true
   },
   "outputs": [],
   "source": [
    "df_train = pd.read_csv(\n",
    "    'train.csv', usecols=[1, 2, 3, 4, 5],\n",
    "    dtype={'onpromotion': bool},\n",
    "    converters={'unit_sales': lambda u: np.log1p(\n",
    "        float(u)) if float(u) > 0 else 0},\n",
    "    parse_dates=[\"date\"],\n",
    "    skiprows=range(1, 66458909)  # 2016-01-01\n",
    ")"
   ]
  },
  {
   "cell_type": "code",
   "execution_count": 3,
   "metadata": {
    "collapsed": true
   },
   "outputs": [],
   "source": [
    "df_test = pd.read_csv(\n",
    "    \"test.csv\", usecols=[0, 1, 2, 3, 4],\n",
    "    dtype={'onpromotion': bool},\n",
    "    parse_dates=[\"date\"]  # , date_parser=parser\n",
    ").set_index(\n",
    "    ['store_nbr', 'item_nbr', 'date']\n",
    ")"
   ]
  },
  {
   "cell_type": "code",
   "execution_count": 4,
   "metadata": {
    "collapsed": true
   },
   "outputs": [],
   "source": [
    "items = pd.read_csv(\n",
    "    \"items.csv\",\n",
    ").set_index(\"item_nbr\")"
   ]
  },
  {
   "cell_type": "code",
   "execution_count": 5,
   "metadata": {
    "collapsed": true
   },
   "outputs": [],
   "source": [
    "stores = pd.read_csv(\n",
    "    \"stores.csv\",\n",
    ").set_index(\"store_nbr\")"
   ]
  },
  {
   "cell_type": "code",
   "execution_count": 6,
   "metadata": {
    "collapsed": true
   },
   "outputs": [],
   "source": [
    "le = LabelEncoder()\n",
    "items['family'] = le.fit_transform(items['family'].values)"
   ]
  },
  {
   "cell_type": "code",
   "execution_count": 7,
   "metadata": {
    "collapsed": true
   },
   "outputs": [],
   "source": [
    "stores['city'] = le.fit_transform(stores['city'].values)\n",
    "stores['state'] = le.fit_transform(stores['state'].values)\n",
    "stores['type'] = le.fit_transform(stores['type'].values)"
   ]
  },
  {
   "cell_type": "code",
   "execution_count": 8,
   "metadata": {
    "collapsed": true
   },
   "outputs": [],
   "source": [
    "df_2017 = df_train.loc[df_train.date>=pd.datetime(2017,1,1)]\n",
    "del df_train"
   ]
  },
  {
   "cell_type": "code",
   "execution_count": 9,
   "metadata": {
    "collapsed": true
   },
   "outputs": [],
   "source": [
    "promo_2017_train = df_2017.set_index(\n",
    "    [\"store_nbr\", \"item_nbr\", \"date\"])[[\"onpromotion\"]].unstack(\n",
    "        level=-1).fillna(False)"
   ]
  },
  {
   "cell_type": "code",
   "execution_count": 10,
   "metadata": {
    "collapsed": true
   },
   "outputs": [],
   "source": [
    "promo_2017_train.columns = promo_2017_train.columns.get_level_values(1)\n",
    "promo_2017_test = df_test[[\"onpromotion\"]].unstack(level=-1).fillna(False)\n",
    "promo_2017_test.columns = promo_2017_test.columns.get_level_values(1)\n",
    "promo_2017_test = promo_2017_test.reindex(promo_2017_train.index).fillna(False)\n",
    "promo_2017 = pd.concat([promo_2017_train, promo_2017_test], axis=1)\n",
    "del promo_2017_test, promo_2017_train"
   ]
  },
  {
   "cell_type": "code",
   "execution_count": 11,
   "metadata": {
    "collapsed": true
   },
   "outputs": [],
   "source": [
    "df_2017 = df_2017.set_index(\n",
    "    [\"store_nbr\", \"item_nbr\", \"date\"])[[\"unit_sales\"]].unstack(\n",
    "        level=-1).fillna(0)\n",
    "df_2017.columns = df_2017.columns.get_level_values(1)"
   ]
  },
  {
   "cell_type": "code",
   "execution_count": 12,
   "metadata": {
    "collapsed": true
   },
   "outputs": [],
   "source": [
    "items = items.reindex(df_2017.index.get_level_values(1))\n",
    "stores = stores.reindex(df_2017.index.get_level_values(0))"
   ]
  },
  {
   "cell_type": "code",
   "execution_count": 13,
   "metadata": {
    "collapsed": true
   },
   "outputs": [],
   "source": [
    "df_2017_item = df_2017.groupby('item_nbr')[df_2017.columns].sum()\n",
    "promo_2017_item = promo_2017.groupby('item_nbr')[promo_2017.columns].sum()"
   ]
  },
  {
   "cell_type": "code",
   "execution_count": 14,
   "metadata": {
    "collapsed": true
   },
   "outputs": [],
   "source": [
    "df_2017_store_class = df_2017.reset_index()\n",
    "df_2017_store_class['class'] = items['class'].values\n",
    "df_2017_store_class_index = df_2017_store_class[['class', 'store_nbr']]\n",
    "df_2017_store_class = df_2017_store_class.groupby(['class', 'store_nbr'])[df_2017.columns].sum()"
   ]
  },
  {
   "cell_type": "code",
   "execution_count": 15,
   "metadata": {
    "collapsed": true
   },
   "outputs": [],
   "source": [
    "df_2017_promo_store_class = promo_2017.reset_index()\n",
    "df_2017_promo_store_class['class'] = items['class'].values\n",
    "df_2017_promo_store_class_index = df_2017_promo_store_class[['class', 'store_nbr']]\n",
    "df_2017_promo_store_class = df_2017_promo_store_class.groupby(['class', 'store_nbr'])[promo_2017.columns].sum()"
   ]
  },
  {
   "cell_type": "code",
   "execution_count": 16,
   "metadata": {
    "collapsed": true
   },
   "outputs": [],
   "source": [
    "def get_timespan(df, dt, minus, periods, freq='D'):\n",
    "    return df[pd.date_range(dt - timedelta(days=minus), periods=periods, freq=freq)]"
   ]
  },
  {
   "cell_type": "code",
   "execution_count": 17,
   "metadata": {
    "collapsed": true
   },
   "outputs": [],
   "source": [
    "def prepare_dataset(df, promo_df, t2017, is_train=True, name_prefix=None):\n",
    "    X = {\n",
    "        \"promo_14_2017\": get_timespan(promo_df, t2017, 14, 14).sum(axis=1).values,\n",
    "        \"promo_60_2017\": get_timespan(promo_df, t2017, 60, 60).sum(axis=1).values,\n",
    "        \"promo_140_2017\": get_timespan(promo_df, t2017, 140, 140).sum(axis=1).values,\n",
    "        \"promo_3_2017_aft\": get_timespan(promo_df, t2017 + timedelta(days=16), 15, 3).sum(axis=1).values,\n",
    "        \"promo_7_2017_aft\": get_timespan(promo_df, t2017 + timedelta(days=16), 15, 7).sum(axis=1).values,\n",
    "        \"promo_14_2017_aft\": get_timespan(promo_df, t2017 + timedelta(days=16), 15, 14).sum(axis=1).values,\n",
    "    }\n",
    "\n",
    "    for i in [3, 7, 14, 30, 60, 140]:\n",
    "        tmp = get_timespan(df, t2017, i, i)\n",
    "        X['diff_%s_mean' % i] = tmp.diff(axis=1).mean(axis=1).values\n",
    "        X['mean_%s_decay' % i] = (tmp * np.power(0.9, np.arange(i)[::-1])).sum(axis=1).values\n",
    "        X['mean_%s' % i] = tmp.mean(axis=1).values\n",
    "        X['median_%s' % i] = tmp.median(axis=1).values\n",
    "        X['min_%s' % i] = tmp.min(axis=1).values\n",
    "        X['max_%s' % i] = tmp.max(axis=1).values\n",
    "        X['std_%s' % i] = tmp.std(axis=1).values\n",
    "\n",
    "    for i in [3, 7, 14, 30, 60, 140]:\n",
    "        tmp = get_timespan(df, t2017 + timedelta(days=-7), i, i)\n",
    "        X['diff_%s_mean_2' % i] = tmp.diff(axis=1).mean(axis=1).values\n",
    "        X['mean_%s_decay_2' % i] = (tmp * np.power(0.9, np.arange(i)[::-1])).sum(axis=1).values\n",
    "        X['mean_%s_2' % i] = tmp.mean(axis=1).values\n",
    "        X['median_%s_2' % i] = tmp.median(axis=1).values\n",
    "        X['min_%s_2' % i] = tmp.min(axis=1).values\n",
    "        X['max_%s_2' % i] = tmp.max(axis=1).values\n",
    "        X['std_%s_2' % i] = tmp.std(axis=1).values\n",
    "\n",
    "    for i in [7, 14, 30, 60, 140]:\n",
    "        tmp = get_timespan(df, t2017, i, i)\n",
    "        X['has_sales_days_in_last_%s' % i] = (tmp > 0).sum(axis=1).values\n",
    "        X['last_has_sales_day_in_last_%s' % i] = i - ((tmp > 0) * np.arange(i)).max(axis=1).values\n",
    "        X['first_has_sales_day_in_last_%s' % i] = ((tmp > 0) * np.arange(i, 0, -1)).max(axis=1).values\n",
    "\n",
    "        tmp = get_timespan(promo_df, t2017, i, i)\n",
    "        X['has_promo_days_in_last_%s' % i] = (tmp > 0).sum(axis=1).values\n",
    "        X['last_has_promo_day_in_last_%s' % i] = i - ((tmp > 0) * np.arange(i)).max(axis=1).values\n",
    "        X['first_has_promo_day_in_last_%s' % i] = ((tmp > 0) * np.arange(i, 0, -1)).max(axis=1).values\n",
    "\n",
    "    tmp = get_timespan(promo_df, t2017 + timedelta(days=16), 15, 15)\n",
    "    X['has_promo_days_in_after_15_days'] = (tmp > 0).sum(axis=1).values\n",
    "    X['last_has_promo_day_in_after_15_days'] = i - ((tmp > 0) * np.arange(15)).max(axis=1).values\n",
    "    X['first_has_promo_day_in_after_15_days'] = ((tmp > 0) * np.arange(15, 0, -1)).max(axis=1).values\n",
    "\n",
    "    for i in range(1, 16):\n",
    "        X['day_%s_2017' % i] = get_timespan(df, t2017, i, 1).values.ravel()\n",
    "\n",
    "    for i in range(7):\n",
    "        X['mean_4_dow{}_2017'.format(i)] = get_timespan(df, t2017, 28-i, 4, freq='7D').mean(axis=1).values\n",
    "        X['mean_20_dow{}_2017'.format(i)] = get_timespan(df, t2017, 140-i, 20, freq='7D').mean(axis=1).values\n",
    "\n",
    "    for i in range(-16, 16):\n",
    "        X[\"promo_{}\".format(i)] = promo_df[t2017 + timedelta(days=i)].values.astype(np.uint8)\n",
    "        \n",
    "    X = pd.DataFrame(X)\n",
    "\n",
    "    if is_train:\n",
    "        y = df[\n",
    "            pd.date_range(t2017, periods=16)\n",
    "        ].values\n",
    "        return X, y\n",
    "    if name_prefix is not None:\n",
    "        X.columns = ['%s_%s' % (name_prefix, c) for c in X.columns]\n",
    "    return X"
   ]
  },
  {
   "cell_type": "code",
   "execution_count": 18,
   "metadata": {},
   "outputs": [
    {
     "name": "stdout",
     "output_type": "stream",
     "text": [
      "Preparing dataset...\n"
     ]
    }
   ],
   "source": [
    "print(\"Preparing dataset...\")\n",
    "num_days = 31\n",
    "t2017 = date(2017, 5, 31)\n",
    "X_l, y_l = [], []\n",
    "for i in range(num_days):\n",
    "    delta = timedelta(days=1 * i)\n",
    "    X_tmp, y_tmp = prepare_dataset(df_2017, promo_2017, t2017 + delta)\n",
    "\n",
    "    X_tmp2 = prepare_dataset(df_2017_item, promo_2017_item, t2017 + delta, is_train=False, name_prefix='item')\n",
    "    X_tmp2.index = df_2017_item.index\n",
    "    X_tmp2 = X_tmp2.reindex(df_2017.index.get_level_values(1)).reset_index(drop=True)\n",
    "\n",
    "    X_tmp3 = prepare_dataset(df_2017_store_class, df_2017_promo_store_class, t2017 + delta, is_train=False, name_prefix='store_class')\n",
    "    X_tmp3.index = df_2017_store_class.index\n",
    "    X_tmp3 = X_tmp3.reindex(df_2017_store_class_index).reset_index(drop=True)\n",
    "\n",
    "    X_tmp = pd.concat([X_tmp, X_tmp2, X_tmp3, items.reset_index(), stores.reset_index()], axis=1)\n",
    "    \n",
    "    for i in range(16):\n",
    "        X_tmp['dayofmonth_%s' % i] = np.repeat(((t2017+ delta) + timedelta(days=i)).day,X_tmp.shape[0])\n",
    "        X_tmp['dayofweek_%s' % i] = np.repeat(((t2017+ delta) + timedelta(days=i)).weekday(),X_tmp.shape[0])\n",
    "\n",
    "    X_l.append(X_tmp)\n",
    "    y_l.append(y_tmp)"
   ]
  },
  {
   "cell_type": "code",
   "execution_count": 19,
   "metadata": {
    "collapsed": true
   },
   "outputs": [],
   "source": [
    "X_train = pd.concat(X_l, axis=0)\n",
    "y_train = np.concatenate(y_l, axis=0)"
   ]
  },
  {
   "cell_type": "code",
   "execution_count": 20,
   "metadata": {
    "collapsed": true
   },
   "outputs": [],
   "source": [
    "X_train.loc[X_train['dayofmonth_0'] == 31, ['dayofmonth_0']] = 30"
   ]
  },
  {
   "cell_type": "code",
   "execution_count": 21,
   "metadata": {
    "collapsed": true
   },
   "outputs": [],
   "source": [
    "del X_l, y_l"
   ]
  },
  {
   "cell_type": "code",
   "execution_count": 22,
   "metadata": {
    "collapsed": true
   },
   "outputs": [],
   "source": [
    "X_val, y_val = prepare_dataset(df_2017, promo_2017, date(2017, 7, 26))\n",
    "X_val2 = prepare_dataset(df_2017_item, promo_2017_item, date(2017, 7, 26), is_train=False, name_prefix='item')\n",
    "X_val2.index = df_2017_item.index\n",
    "X_val2 = X_val2.reindex(df_2017.index.get_level_values(1)).reset_index(drop=True)"
   ]
  },
  {
   "cell_type": "code",
   "execution_count": 23,
   "metadata": {
    "collapsed": true
   },
   "outputs": [],
   "source": [
    "X_val3 = prepare_dataset(df_2017_store_class, df_2017_promo_store_class, date(2017, 7, 26), is_train=False, name_prefix='store_class')\n",
    "X_val3.index = df_2017_store_class.index\n",
    "X_val3 = X_val3.reindex(df_2017_store_class_index).reset_index(drop=True)"
   ]
  },
  {
   "cell_type": "code",
   "execution_count": 24,
   "metadata": {
    "collapsed": true
   },
   "outputs": [],
   "source": [
    "X_val = pd.concat([X_val, X_val2, X_val3, items.reset_index(), stores.reset_index()], axis=1)"
   ]
  },
  {
   "cell_type": "code",
   "execution_count": 25,
   "metadata": {
    "collapsed": true
   },
   "outputs": [],
   "source": [
    "for i in range(16):\n",
    "        X_val['dayofmonth_%s' % i] = np.repeat((date(2017, 7, 26) + timedelta(days=i)).day,X_val.shape[0])\n",
    "        X_val['dayofweek_%s' % i] = np.repeat((date(2017, 7, 26) + timedelta(days=i)).weekday(),X_val.shape[0])"
   ]
  },
  {
   "cell_type": "code",
   "execution_count": 26,
   "metadata": {
    "collapsed": true
   },
   "outputs": [],
   "source": [
    "X_val.loc[X_val['dayofmonth_5'] == 31, ['dayofmonth_0']] = 30"
   ]
  },
  {
   "cell_type": "code",
   "execution_count": 27,
   "metadata": {
    "collapsed": true
   },
   "outputs": [],
   "source": [
    "X_test = prepare_dataset(df_2017, promo_2017, date(2017, 8, 16), is_train=False)\n",
    "X_test2 = prepare_dataset(df_2017_item, promo_2017_item, date(2017, 8, 16), is_train=False, name_prefix='item')\n",
    "X_test2.index = df_2017_item.index\n",
    "X_test2 = X_test2.reindex(df_2017.index.get_level_values(1)).reset_index(drop=True)"
   ]
  },
  {
   "cell_type": "code",
   "execution_count": 28,
   "metadata": {
    "collapsed": true
   },
   "outputs": [],
   "source": [
    "X_test3 = prepare_dataset(df_2017_store_class, df_2017_promo_store_class, date(2017, 8, 16), is_train=False, name_prefix='store_class')\n",
    "X_test3.index = df_2017_store_class.index\n",
    "X_test3 = X_test3.reindex(df_2017_store_class_index).reset_index(drop=True)"
   ]
  },
  {
   "cell_type": "code",
   "execution_count": 29,
   "metadata": {
    "collapsed": true
   },
   "outputs": [],
   "source": [
    "X_test = pd.concat([X_test, X_test2, X_test3, items.reset_index(), stores.reset_index()], axis=1)"
   ]
  },
  {
   "cell_type": "code",
   "execution_count": 30,
   "metadata": {
    "collapsed": true
   },
   "outputs": [],
   "source": [
    "for i in range(16):\n",
    "        X_test['dayofmonth_%s' % i] = np.repeat((date(2017, 8, 16) + timedelta(days=i)).day,X_test.shape[0])\n",
    "        X_test['dayofweek_%s' % i] = np.repeat((date(2017, 8, 16) + timedelta(days=i)).weekday(),X_test.shape[0])"
   ]
  },
  {
   "cell_type": "code",
   "execution_count": 31,
   "metadata": {
    "collapsed": true
   },
   "outputs": [],
   "source": [
    "X_test.loc[X_test['dayofmonth_15'] == 31, ['dayofmonth_0']] = 30"
   ]
  },
  {
   "cell_type": "code",
   "execution_count": 32,
   "metadata": {},
   "outputs": [
    {
     "data": {
      "text/plain": [
       "2317"
      ]
     },
     "execution_count": 32,
     "metadata": {},
     "output_type": "execute_result"
    }
   ],
   "source": [
    "del df_2017_item, promo_2017_item, df_2017_store_class, df_2017_promo_store_class, df_2017_store_class_index\n",
    "gc.collect()"
   ]
  },
  {
   "cell_type": "markdown",
   "metadata": {},
   "source": [
    "## Categorical Embedding"
   ]
  },
  {
   "cell_type": "code",
   "execution_count": 33,
   "metadata": {
    "collapsed": true
   },
   "outputs": [],
   "source": [
    "sample_weights=np.array( pd.concat([items[\"perishable\"]] * num_days) * 0.25 + 1 )"
   ]
  },
  {
   "cell_type": "code",
   "execution_count": 34,
   "metadata": {
    "collapsed": true
   },
   "outputs": [],
   "source": [
    "import copy"
   ]
  },
  {
   "cell_type": "code",
   "execution_count": 35,
   "metadata": {
    "collapsed": true
   },
   "outputs": [],
   "source": [
    "X_train_dnn = copy.copy(X_train.iloc[:,[552,553,554,556,557,558,559,560,561,562]]).values"
   ]
  },
  {
   "cell_type": "code",
   "execution_count": 36,
   "metadata": {
    "collapsed": true
   },
   "outputs": [],
   "source": [
    "X_val_dnn = copy.copy(X_val.iloc[:,[552,553,554,556,557,558,559,560,561,562]]).values"
   ]
  },
  {
   "cell_type": "code",
   "execution_count": 37,
   "metadata": {
    "collapsed": true
   },
   "outputs": [],
   "source": [
    "les = []\n",
    "for i in range(X_train_dnn.shape[1]):\n",
    "    le = LabelEncoder()\n",
    "    le.fit(X_train.iloc[:,[552,553,554,556,557,558,559,560,561,562]].iloc[:, i])\n",
    "    les.append(le)\n",
    "    X_train_dnn[:, i] = le.transform(X_train_dnn[:, i])\n",
    "    X_val_dnn[:, i] = le.transform(X_val_dnn[:, i])"
   ]
  },
  {
   "cell_type": "code",
   "execution_count": 38,
   "metadata": {
    "collapsed": true
   },
   "outputs": [],
   "source": [
    "def split_features(X):\n",
    "    X_list = []\n",
    "    \n",
    "    item_nbr = X[..., [0]]\n",
    "    X_list.append(item_nbr)\n",
    "    \n",
    "    family = X[..., [1]]\n",
    "    X_list.append(family)\n",
    "    \n",
    "    class1 = X[..., [2]]\n",
    "    X_list.append(class1)\n",
    "    \n",
    "    store_nbr = X[..., [3]]\n",
    "    X_list.append(store_nbr)\n",
    "    \n",
    "    city = X[..., [4]]\n",
    "    X_list.append(city)\n",
    "    \n",
    "    state = X[..., [5]]\n",
    "    X_list.append(state)\n",
    "    \n",
    "    type1 = X[..., [6]]\n",
    "    X_list.append(type1)\n",
    "    \n",
    "    cluster = X[..., [7]]\n",
    "    X_list.append(cluster)\n",
    "    \n",
    "    dayofmonth_0 = X[..., [8]]\n",
    "    X_list.append(dayofmonth_0)\n",
    "    \n",
    "    dayofweek_0 = X[..., [9]]\n",
    "    X_list.append(dayofweek_0)\n",
    "    \n",
    "    return X_list"
   ]
  },
  {
   "cell_type": "code",
   "execution_count": 39,
   "metadata": {
    "collapsed": true
   },
   "outputs": [],
   "source": [
    "class NN_with_EntityEmbedding(object):\n",
    "    def __init__(self, X_train, y_train, X_val, y_val):\n",
    "            self.nb_epoch = 2\n",
    "            self.__build_keras_model()\n",
    "            self.fit(X_train, y_train, X_val, y_val)\n",
    "    def preprocessing(self, X):\n",
    "            X_list = split_features(X)\n",
    "            return X_list\n",
    "    def __build_keras_model(self):\n",
    "            models = []\n",
    "            \n",
    "            modelitmnbr_in = Input(shape=(1,))\n",
    "            modelitmnbr_out = Embedding(len(les[0].classes_), 50, input_length=1)(modelitmnbr_in)\n",
    "            modelitmnbr_out = Reshape(target_shape=(50,))(modelitmnbr_out)\n",
    "            #modelfamily = Model(modelfamily_in, modelfamily_out)\n",
    "            models.append(modelitmnbr_out)\n",
    "            \n",
    "            modelfamily_in = Input(shape=(1,))\n",
    "            modelfamily_out = Embedding(len(les[1].classes_), 16, input_length=1)(modelfamily_in)\n",
    "            modelfamily_out = Reshape(target_shape=(16,))(modelfamily_out)\n",
    "            #modelfamily = Model(modelfamily_in, modelfamily_out)\n",
    "            models.append(modelfamily_out)\n",
    "            \n",
    "            modelclass_in = Input(shape=(1,))\n",
    "            modelclass_out = Embedding(len(les[2].classes_), 50, input_length=1)(modelclass_in)\n",
    "            modelclass_out = Reshape(target_shape=(50,))(modelclass_out)\n",
    "            #modelclass = Model(modelclass_in, modelclass_out)\n",
    "            models.append(modelclass_out)\n",
    "            \n",
    "            modelstrnbr_in = Input(shape=(1,))\n",
    "            modelstrnbr_out = Embedding(len(les[3].classes_), 27, input_length=1)(modelstrnbr_in)\n",
    "            modelstrnbr_out = Reshape(target_shape=(27,))(modelstrnbr_out)\n",
    "            #modelfamily = Model(modelfamily_in, modelfamily_out)\n",
    "            models.append(modelstrnbr_out)\n",
    "\n",
    "            modelcity_in = Input(shape=(1,))\n",
    "            modelcity_out = Embedding(len(les[4].classes_), 11, input_length=1)(modelcity_in)\n",
    "            modelcity_out = Reshape(target_shape=(11,))(modelcity_out)\n",
    "            #modelcity = Model(modelcity_in, modelcity_out)\n",
    "            models.append(modelcity_out)\n",
    "            \n",
    "            modelstate_in = Input(shape=(1,))\n",
    "            modelstate_out = Embedding(len(les[5].classes_), 8, input_length=1)(modelstate_in)\n",
    "            modelstate_out = Reshape(target_shape=(8,))(modelstate_out)\n",
    "            #modelstate = Model(modelstate_in, modelstate_out)\n",
    "            models.append(modelstate_out)\n",
    "            \n",
    "            modeltype_in = Input(shape=(1,))\n",
    "            modeltype_out = Embedding(len(les[6].classes_), 5, input_length=1)(modeltype_in)\n",
    "            modeltype_out = Reshape(target_shape=(5,))(modeltype_out)\n",
    "            #modeltype = Model(modeltype_in, modeltype_out)\n",
    "            models.append(modeltype_out)\n",
    "            \n",
    "            modelcluster_in = Input(shape=(1,))\n",
    "            modelcluster_out = Embedding(len(les[7].classes_), 8, input_length=1)(modelcluster_in)\n",
    "            modelcluster_out = Reshape(target_shape=(8,))(modelcluster_out)\n",
    "            #modelcluster = Model(modelcluster_in, modelcluster_out)\n",
    "            models.append(modelcluster_out)\n",
    "            \n",
    "            modeldom_in = Input(shape=(1,))\n",
    "            modeldom_out = Embedding(len(les[8].classes_), 15, input_length=1)(modeldom_in)\n",
    "            modeldom_out = Reshape(target_shape=(15,))(modeldom_out)\n",
    "            #modelcluster = Model(modelcluster_in, modelcluster_out)\n",
    "            models.append(modeldom_out)\n",
    "            \n",
    "            modeldow_in = Input(shape=(1,))\n",
    "            modeldow_out = Embedding(len(les[9].classes_), 4, input_length=1)(modeldow_in)\n",
    "            modeldow_out = Reshape(target_shape=(4,))(modeldow_out)\n",
    "            #modelcluster = Model(modelcluster_in, modelcluster_out)\n",
    "            models.append(modeldow_out)\n",
    "            \n",
    "            concatenated = concatenate(models)\n",
    "            out = Dense(256, activation='relu', kernel_initializer='uniform')(concatenated)\n",
    "            out1 = Dense(128, activation='relu', kernel_initializer='uniform')(out)\n",
    "            out2 = Dense(1, activation='relu', kernel_initializer='uniform')(out1)\n",
    "            \n",
    "            self.model = Model([modelitmnbr_in,modelfamily_in,modelclass_in,modelstrnbr_in,\n",
    "                                modelcity_in,modelstate_in,modeltype_in, modelcluster_in,\n",
    "                                modeldom_in,modeldow_in], out2)\n",
    "            \n",
    "            self.model.compile(loss='mse', optimizer='adam', \n",
    "                                 metrics=['accuracy'])\n",
    "\n",
    "        \n",
    "    def fit(self, X_train, y_train, X_val, y_val):\n",
    "            self.model.fit(self.preprocessing(X_train), y_train,\n",
    "                           validation_data=(self.preprocessing(X_val), y_val),\n",
    "                           epochs=self.nb_epoch, batch_size=512,sample_weight = sample_weights\n",
    "                           )"
   ]
  },
  {
   "cell_type": "code",
   "execution_count": 40,
   "metadata": {},
   "outputs": [
    {
     "name": "stdout",
     "output_type": "stream",
     "text": [
      "Train on 5192965 samples, validate on 167515 samples\n",
      "Epoch 1/2\n",
      "5192965/5192965 [==============================] - 56s 11us/step - loss: 0.5077 - acc: 0.2196 - val_loss: 0.5094 - val_acc: 0.2279\n",
      "Epoch 2/2\n",
      "5192965/5192965 [==============================] - 55s 11us/step - loss: 0.4218 - acc: 0.2403 - val_loss: 0.4878 - val_acc: 0.2364\n"
     ]
    }
   ],
   "source": [
    "dnn = NN_with_EntityEmbedding(X_train_dnn, y_train[:,[0]], X_val_dnn, y_val[:,[0]])"
   ]
  },
  {
   "cell_type": "code",
   "execution_count": 41,
   "metadata": {
    "collapsed": true
   },
   "outputs": [],
   "source": [
    "weights = dnn.model.get_weights()"
   ]
  },
  {
   "cell_type": "code",
   "execution_count": 42,
   "metadata": {
    "collapsed": true
   },
   "outputs": [],
   "source": [
    "item_nbr_embeddings = pd.DataFrame(weights[0])\n",
    "item_nbr_embeddings.columns = ['item_nbr'+str(i) for i in range(len(item_nbr_embeddings.columns.values))]\n",
    "item_nbr_embeddings['item_nbr'] = les[0].inverse_transform(np.unique(X_train_dnn[..., [0]]))\n",
    "item_nbr_embeddings = item_nbr_embeddings.set_index('item_nbr')"
   ]
  },
  {
   "cell_type": "code",
   "execution_count": 43,
   "metadata": {
    "collapsed": true
   },
   "outputs": [],
   "source": [
    "item_family_embeddings = pd.DataFrame(weights[1])\n",
    "item_family_embeddings.columns = ['family'+str(i) for i in range(len(item_family_embeddings.columns.values))]\n",
    "item_family_embeddings['family'] = les[1].inverse_transform(np.unique(X_train_dnn[..., [1]]))\n",
    "item_family_embeddings = item_family_embeddings.set_index('family')"
   ]
  },
  {
   "cell_type": "code",
   "execution_count": 44,
   "metadata": {
    "collapsed": true
   },
   "outputs": [],
   "source": [
    "item_class_embeddings = pd.DataFrame(weights[2])\n",
    "item_class_embeddings.columns = ['class'+str(i) for i in range(len(item_class_embeddings.columns.values))]\n",
    "item_class_embeddings['class'] = les[2].inverse_transform(np.unique(X_train_dnn[..., [2]]))\n",
    "item_class_embeddings = item_class_embeddings.set_index('class')"
   ]
  },
  {
   "cell_type": "code",
   "execution_count": 45,
   "metadata": {
    "collapsed": true
   },
   "outputs": [],
   "source": [
    "store_nbr_embeddings = pd.DataFrame(weights[3])\n",
    "store_nbr_embeddings.columns = ['store_nbr'+str(i) for i in range(len(store_nbr_embeddings.columns.values))]\n",
    "store_nbr_embeddings['store_nbr'] = les[3].inverse_transform(np.unique(X_train_dnn[..., [3]]))\n",
    "store_nbr_embeddings = store_nbr_embeddings.set_index('store_nbr')"
   ]
  },
  {
   "cell_type": "code",
   "execution_count": 46,
   "metadata": {
    "collapsed": true
   },
   "outputs": [],
   "source": [
    "store_city_embeddings = pd.DataFrame(weights[4])\n",
    "store_city_embeddings.columns = ['city'+str(i) for i in range(len(store_city_embeddings.columns.values))]\n",
    "store_city_embeddings['city'] = les[4].inverse_transform(np.unique(X_train_dnn[..., [4]]))\n",
    "store_city_embeddings = store_city_embeddings.set_index('city')"
   ]
  },
  {
   "cell_type": "code",
   "execution_count": 47,
   "metadata": {
    "collapsed": true
   },
   "outputs": [],
   "source": [
    "store_state_embeddings = pd.DataFrame(weights[5])\n",
    "store_state_embeddings.columns = ['state'+str(i) for i in range(len(store_state_embeddings.columns.values))]\n",
    "store_state_embeddings['state'] = les[5].inverse_transform(np.unique(X_train_dnn[..., [5]]))\n",
    "store_state_embeddings = store_state_embeddings.set_index('state')"
   ]
  },
  {
   "cell_type": "code",
   "execution_count": 48,
   "metadata": {
    "collapsed": true
   },
   "outputs": [],
   "source": [
    "store_type_embeddings = pd.DataFrame(weights[6])\n",
    "store_type_embeddings.columns = ['type'+str(i) for i in range(len(store_type_embeddings.columns.values))]\n",
    "store_type_embeddings['type'] = les[6].inverse_transform(np.unique(X_train_dnn[..., [6]]))\n",
    "store_type_embeddings = store_type_embeddings.set_index('type')"
   ]
  },
  {
   "cell_type": "code",
   "execution_count": 49,
   "metadata": {
    "collapsed": true
   },
   "outputs": [],
   "source": [
    "store_cluster_embeddings = pd.DataFrame(weights[7])\n",
    "store_cluster_embeddings.columns = ['cluster'+str(i) for i in range(len(store_cluster_embeddings.columns.values))]\n",
    "store_cluster_embeddings['cluster'] = les[7].inverse_transform(np.unique(X_train_dnn[..., [7]]))\n",
    "store_cluster_embeddings = store_cluster_embeddings.set_index('cluster')"
   ]
  },
  {
   "cell_type": "code",
   "execution_count": 50,
   "metadata": {
    "collapsed": true
   },
   "outputs": [],
   "source": [
    "dom_embeddings = pd.DataFrame(weights[8])\n",
    "dom_embeddings.columns = ['dom'+str(i) for i in range(len(dom_embeddings.columns.values))]\n",
    "dom_embeddings['dom'] = les[8].inverse_transform(np.unique(X_train_dnn[..., [8]]))\n",
    "dom_embeddings = dom_embeddings.set_index('dom')"
   ]
  },
  {
   "cell_type": "code",
   "execution_count": 51,
   "metadata": {
    "collapsed": true
   },
   "outputs": [],
   "source": [
    "dow_embeddings = pd.DataFrame(weights[9])\n",
    "dow_embeddings.columns = ['dow'+str(i) for i in range(len(dow_embeddings.columns.values))]\n",
    "dow_embeddings['dow'] = les[9].inverse_transform(np.unique(X_train_dnn[..., [9]]))\n",
    "dow_embeddings = dow_embeddings.set_index('dow')"
   ]
  },
  {
   "cell_type": "code",
   "execution_count": 52,
   "metadata": {
    "collapsed": true
   },
   "outputs": [],
   "source": [
    "dom_cols = dom_embeddings.columns.values\n",
    "dow_cols = dow_embeddings.columns.values"
   ]
  },
  {
   "cell_type": "code",
   "execution_count": 53,
   "metadata": {
    "collapsed": true
   },
   "outputs": [],
   "source": [
    "X_train_1 = X_train.join(item_nbr_embeddings, on = 'item_nbr', how = \"left\")\n",
    "X_train_1 = X_train_1.join(item_family_embeddings, on = 'family', how = \"left\")\n",
    "X_train_1 = X_train_1.join(item_class_embeddings, on = 'class', how = \"left\")\n",
    "X_train_1 = X_train_1.join(store_nbr_embeddings, on = 'store_nbr', how = \"left\")\n",
    "X_train_1 = X_train_1.join(store_city_embeddings, on = 'city', how = \"left\")\n",
    "X_train_1 = X_train_1.join(store_state_embeddings, on = 'state', how = \"left\")\n",
    "X_train_1 = X_train_1.join(store_type_embeddings, on = 'type', how = \"left\")\n",
    "X_train_1 = X_train_1.join(store_cluster_embeddings, on = 'cluster', how = \"left\")"
   ]
  },
  {
   "cell_type": "code",
   "execution_count": 54,
   "metadata": {
    "collapsed": true
   },
   "outputs": [],
   "source": [
    "for j in range(16):\n",
    "    dom_embeddings.columns = [i+(\"_%s\" % j) for i in dom_cols]\n",
    "    X_train_1 = X_train_1.join(dom_embeddings, on = ('dayofmonth_%s' % j), how = \"left\")"
   ]
  },
  {
   "cell_type": "code",
   "execution_count": 55,
   "metadata": {
    "collapsed": true
   },
   "outputs": [],
   "source": [
    "for j in range(16):\n",
    "    dow_embeddings.columns = [i+(\"_%s\" % j) for i in dow_cols]\n",
    "    X_train_1 = X_train_1.join(dow_embeddings, on = ('dayofweek_%s' % j), how = \"left\")"
   ]
  },
  {
   "cell_type": "code",
   "execution_count": 56,
   "metadata": {
    "collapsed": true
   },
   "outputs": [],
   "source": [
    "X_train = X_train_1.iloc[:,0:552]\n",
    "X_train_itmstr = X_train_1.iloc[:,593:768]\n",
    "X_train_date = X_train_1.iloc[:,768:]"
   ]
  },
  {
   "cell_type": "code",
   "execution_count": 57,
   "metadata": {
    "collapsed": true
   },
   "outputs": [],
   "source": [
    "idx15 = [i for i, item in enumerate(X_train_date.columns.values) if item.endswith('_15')]"
   ]
  },
  {
   "cell_type": "code",
   "execution_count": 58,
   "metadata": {
    "collapsed": true
   },
   "outputs": [],
   "source": [
    "X_val_1 = X_val.join(item_nbr_embeddings, on = 'item_nbr', how = \"left\")\n",
    "X_val_1 = X_val_1.join(item_family_embeddings, on = 'family', how = \"left\")\n",
    "X_val_1 = X_val_1.join(item_class_embeddings, on = 'class', how = \"left\")\n",
    "X_val_1 = X_val_1.join(store_nbr_embeddings, on = 'store_nbr', how = \"left\")\n",
    "X_val_1 = X_val_1.join(store_city_embeddings, on = 'city', how = \"left\")\n",
    "X_val_1 = X_val_1.join(store_state_embeddings, on = 'state', how = \"left\")\n",
    "X_val_1 = X_val_1.join(store_type_embeddings, on = 'type', how = \"left\")\n",
    "X_val_1 = X_val_1.join(store_cluster_embeddings, on = 'cluster', how = \"left\")"
   ]
  },
  {
   "cell_type": "code",
   "execution_count": 59,
   "metadata": {
    "collapsed": true
   },
   "outputs": [],
   "source": [
    "for j in range(16):\n",
    "    dom_embeddings.columns = [i+(\"_%s\" % j) for i in dom_cols]\n",
    "    X_val_1 = X_val_1.join(dom_embeddings, on = ('dayofmonth_%s' % j), how = \"left\")\n",
    "    \n",
    "for j in range(16):\n",
    "    dow_embeddings.columns = [i+(\"_%s\" % j) for i in dow_cols]\n",
    "    X_val_1 = X_val_1.join(dow_embeddings, on = ('dayofweek_%s' % j), how = \"left\")\n",
    "    \n",
    "X_val = X_val_1.iloc[:,0:552]\n",
    "X_val_itmstr = X_val_1.iloc[:,593:768]\n",
    "X_val_date = X_val_1.iloc[:,768:]"
   ]
  },
  {
   "cell_type": "code",
   "execution_count": 60,
   "metadata": {
    "collapsed": true
   },
   "outputs": [],
   "source": [
    "X_test_1 = X_test.join(item_nbr_embeddings, on = 'item_nbr', how = \"left\")\n",
    "X_test_1 = X_test_1.join(item_family_embeddings, on = 'family', how = \"left\")\n",
    "X_test_1 = X_test_1.join(item_class_embeddings, on = 'class', how = \"left\")\n",
    "X_test_1 = X_test_1.join(store_nbr_embeddings, on = 'store_nbr', how = \"left\")\n",
    "X_test_1 = X_test_1.join(store_city_embeddings, on = 'city', how = \"left\")\n",
    "X_test_1 = X_test_1.join(store_state_embeddings, on = 'state', how = \"left\")\n",
    "X_test_1 = X_test_1.join(store_type_embeddings, on = 'type', how = \"left\")\n",
    "X_test_1 = X_test_1.join(store_cluster_embeddings, on = 'cluster', how = \"left\")"
   ]
  },
  {
   "cell_type": "code",
   "execution_count": 61,
   "metadata": {
    "collapsed": true
   },
   "outputs": [],
   "source": [
    "for j in range(16):\n",
    "    dom_embeddings.columns = [i+(\"_%s\" % j) for i in dom_cols]\n",
    "    X_test_1 = X_test_1.join(dom_embeddings, on = ('dayofmonth_%s' % j), how = \"left\")\n",
    "    \n",
    "for j in range(16):\n",
    "    dow_embeddings.columns = [i+(\"_%s\" % j) for i in dow_cols]\n",
    "    X_test_1 = X_test_1.join(dow_embeddings, on = ('dayofweek_%s' % j), how = \"left\")\n",
    "    \n",
    "X_test = X_test_1.iloc[:,0:552]\n",
    "X_test_itmstr = X_test_1.iloc[:,593:768]\n",
    "X_test_date = X_test_1.iloc[:,768:]"
   ]
  },
  {
   "cell_type": "code",
   "execution_count": 62,
   "metadata": {},
   "outputs": [
    {
     "data": {
      "text/plain": [
       "11693"
      ]
     },
     "execution_count": 62,
     "metadata": {},
     "output_type": "execute_result"
    }
   ],
   "source": [
    "del X_train_1, X_val_1, X_test_1\n",
    "gc.collect()"
   ]
  },
  {
   "cell_type": "markdown",
   "metadata": {},
   "source": [
    "## Model"
   ]
  },
  {
   "cell_type": "code",
   "execution_count": 63,
   "metadata": {
    "collapsed": true
   },
   "outputs": [],
   "source": [
    "df_meta_tr = pd.read_csv(\n",
    "    \"seq_meta_tr.csv\",\n",
    ")\n",
    "\n",
    "df_meta_val = pd.read_csv(\n",
    "    \"seq_meta_val.csv\",\n",
    ")\n",
    "\n",
    "df_meta_test = pd.read_csv(\n",
    "    \"seq_meta_test.csv\",\n",
    ")"
   ]
  },
  {
   "cell_type": "code",
   "execution_count": 64,
   "metadata": {
    "collapsed": true
   },
   "outputs": [],
   "source": [
    "df_meta_tr.columns = [(\"y_%s\" % i) for  i in range(16)]"
   ]
  },
  {
   "cell_type": "code",
   "execution_count": 65,
   "metadata": {
    "collapsed": true
   },
   "outputs": [],
   "source": [
    "df_meta_val.columns = [(\"y_%s\" % i) for  i in range(16)]"
   ]
  },
  {
   "cell_type": "code",
   "execution_count": 66,
   "metadata": {
    "collapsed": true
   },
   "outputs": [],
   "source": [
    "df_meta_test.columns = [(\"y_%s\" % i) for  i in range(16)]"
   ]
  },
  {
   "cell_type": "code",
   "execution_count": 67,
   "metadata": {
    "collapsed": true
   },
   "outputs": [],
   "source": [
    "X_train = pd.concat([X_train.reset_index(drop=True), df_meta_tr], axis=1)"
   ]
  },
  {
   "cell_type": "code",
   "execution_count": 68,
   "metadata": {
    "collapsed": true
   },
   "outputs": [],
   "source": [
    "X_val = pd.concat([X_val.reset_index(drop=True), df_meta_val], axis=1)"
   ]
  },
  {
   "cell_type": "code",
   "execution_count": 69,
   "metadata": {
    "collapsed": true
   },
   "outputs": [],
   "source": [
    "X_test = pd.concat([X_test.reset_index(drop=True), df_meta_test], axis=1)"
   ]
  },
  {
   "cell_type": "code",
   "execution_count": 70,
   "metadata": {},
   "outputs": [
    {
     "data": {
      "text/plain": [
       "StandardScaler(copy=True, with_mean=True, with_std=True)"
      ]
     },
     "execution_count": 70,
     "metadata": {},
     "output_type": "execute_result"
    }
   ],
   "source": [
    "scaler = StandardScaler()\n",
    "scaler.fit(pd.concat([X_train, X_val, X_test]))"
   ]
  },
  {
   "cell_type": "code",
   "execution_count": 71,
   "metadata": {
    "collapsed": true
   },
   "outputs": [],
   "source": [
    "X_train[:] = scaler.transform(X_train)\n",
    "X_val[:] = scaler.transform(X_val)\n",
    "X_test[:] = scaler.transform(X_test)"
   ]
  },
  {
   "cell_type": "code",
   "execution_count": 76,
   "metadata": {},
   "outputs": [],
   "source": [
    "X_train = pd.concat([X_train, X_train_itmstr.reset_index(drop=True)], axis=1)"
   ]
  },
  {
   "cell_type": "code",
   "execution_count": 77,
   "metadata": {
    "collapsed": true
   },
   "outputs": [],
   "source": [
    "X_val = pd.concat([X_val, X_val_itmstr.reset_index(drop=True)], axis=1)"
   ]
  },
  {
   "cell_type": "code",
   "execution_count": 78,
   "metadata": {
    "collapsed": true
   },
   "outputs": [],
   "source": [
    "X_test = pd.concat([X_test, X_test_itmstr.reset_index(drop=True)], axis=1)"
   ]
  },
  {
   "cell_type": "code",
   "execution_count": 93,
   "metadata": {},
   "outputs": [
    {
     "data": {
      "text/plain": [
       "(5192965, 762)"
      ]
     },
     "execution_count": 93,
     "metadata": {},
     "output_type": "execute_result"
    }
   ],
   "source": [
    "j = 1\n",
    "idx = [i for i, item in enumerate(X_train_date.columns.values) if item.endswith('_%s' % j)]\n",
    "np.concatenate([X_train.as_matrix(),X_train_date.as_matrix()[:,idx]],axis=1).shape"
   ]
  },
  {
   "cell_type": "code",
   "execution_count": 95,
   "metadata": {
    "collapsed": true
   },
   "outputs": [],
   "source": [
    "def build_model():\n",
    "    model = Sequential()\n",
    "    model.add(LSTM(768, input_shape=(1,762)))\n",
    "    model.add(BatchNormalization())\n",
    "    model.add(Dropout(.2))\n",
    "\n",
    "    model.add(Dense(512))\n",
    "    model.add(PReLU())\n",
    "    model.add(BatchNormalization())\n",
    "    model.add(Dropout(.1))\n",
    "\n",
    "    model.add(Dense(256))\n",
    "    model.add(PReLU())\n",
    "    model.add(BatchNormalization())\n",
    "    model.add(Dropout(.1))\n",
    "\n",
    "    model.add(Dense(128))\n",
    "    model.add(PReLU())\n",
    "    model.add(BatchNormalization())\n",
    "    model.add(Dropout(.05))\n",
    "\n",
    "    model.add(Dense(64))\n",
    "    model.add(PReLU())\n",
    "    model.add(BatchNormalization())\n",
    "    model.add(Dropout(.05))\n",
    "\n",
    "    model.add(Dense(32))\n",
    "    model.add(PReLU())\n",
    "    model.add(BatchNormalization())\n",
    "    model.add(Dropout(.05))\n",
    "\n",
    "    model.add(Dense(16))\n",
    "    model.add(PReLU())\n",
    "    model.add(BatchNormalization())\n",
    "    model.add(Dropout(.05))\n",
    "\n",
    "    model.add(Dense(1))\n",
    "\n",
    "    return model"
   ]
  },
  {
   "cell_type": "code",
   "execution_count": null,
   "metadata": {},
   "outputs": [
    {
     "name": "stdout",
     "output_type": "stream",
     "text": [
      "==================================================\n",
      "Step 1\n",
      "==================================================\n",
      "Train on 5192965 samples, validate on 167515 samples\n",
      "Epoch 1/2\n",
      " - 712s - loss: 0.5512 - mean_squared_error: 0.5210 - val_loss: 0.4460 - val_mean_squared_error: 0.4460\n",
      "Epoch 2/2\n",
      " - 679s - loss: 0.4188 - mean_squared_error: 0.3967 - val_loss: 0.4020 - val_mean_squared_error: 0.4020\n",
      "==================================================\n",
      "Step 2\n",
      "==================================================\n",
      "Train on 5192965 samples, validate on 167515 samples\n",
      "Epoch 1/2\n",
      " - 763s - loss: 0.6165 - mean_squared_error: 0.5830 - val_loss: 0.5519 - val_mean_squared_error: 0.5519\n",
      "Epoch 2/2\n",
      " - 753s - loss: 0.4444 - mean_squared_error: 0.4206 - val_loss: 0.4595 - val_mean_squared_error: 0.4595\n",
      "==================================================\n",
      "Step 3\n",
      "==================================================\n"
     ]
    }
   ],
   "source": [
    "N_EPOCHS = 2\n",
    "\n",
    "val_pred = []\n",
    "test_pred = []\n",
    "# wtpath = 'weights.hdf5'  # To save best epoch. But need Keras bug to be fixed first.\n",
    "sample_weights=np.array( pd.concat([items[\"perishable\"]] * num_days) * 0.25 + 1 )\n",
    "for j in range(16):\n",
    "    print(\"=\" * 50)\n",
    "    print(\"Step %d\" % (j+1))\n",
    "    print(\"=\" * 50)\n",
    "    \n",
    "    idx = [i for i, item in enumerate(X_train_date.columns.values) if item.endswith('_%s' % j)]\n",
    "    \n",
    "    X_train_model = np.concatenate([X_train.as_matrix(),X_train_date.as_matrix()[:,idx]],axis=1)\n",
    "    X_val_model = np.concatenate([X_val.as_matrix(),X_val_date.as_matrix()[:,idx]],axis=1)\n",
    "    X_test_model = np.concatenate([X_test.as_matrix(),X_test_date.as_matrix()[:,idx]],axis=1)\n",
    "    \n",
    "    X_train_model = X_train_model.reshape((X_train_model.shape[0], 1, X_train_model.shape[1]))\n",
    "    X_test_model = X_test_model.reshape((X_test_model.shape[0], 1, X_test_model.shape[1]))\n",
    "    X_val_model = X_val_model.reshape((X_val_model.shape[0], 1, X_val_model.shape[1]))\n",
    "    \n",
    "    y = y_train[:, j]\n",
    "    y_mean = y.mean()\n",
    "    xv = X_val_model\n",
    "    yv = y_val[:, j]\n",
    "    model = build_model()\n",
    "    opt = optimizers.Adam(lr=0.001)\n",
    "    model.compile(loss='mse', optimizer=opt, metrics=['mse'])\n",
    "\n",
    "    callbacks = [\n",
    "        EarlyStopping(monitor='val_loss', patience=10, verbose=0),\n",
    "        ReduceLROnPlateau(monitor='val_loss', factor=0.1, patience=7, verbose=1, epsilon=1e-4, mode='min')\n",
    "        ]\n",
    "    model.fit(X_train_model, y - y_mean, batch_size = 65536, epochs = N_EPOCHS, verbose=2,\n",
    "               sample_weight=sample_weights, validation_data=(xv,yv-y_mean), callbacks=callbacks )\n",
    "    val_pred.append(model.predict(X_val_model)+y_mean)\n",
    "    test_pred.append(model.predict(X_test_model)+y_mean)"
   ]
  },
  {
   "cell_type": "code",
   "execution_count": null,
   "metadata": {
    "collapsed": true
   },
   "outputs": [],
   "source": [
    "weight = items[\"perishable\"] * 0.25 + 1\n",
    "err = (y_val - np.array(val_pred).squeeze(axis=2).transpose())**2\n",
    "err = err.sum(axis=1) * weight\n",
    "err = np.sqrt(err.sum() / weight.sum() / 16)\n",
    "print('nwrmsle = {}'.format(err))\n",
    "\n",
    "y_val = np.array(val_pred).squeeze(axis=2).transpose()\n",
    "df_preds = pd.DataFrame(\n",
    "    y_val, index=df_2017.index,\n",
    "    columns=pd.date_range(\"2017-07-26\", periods=16)\n",
    ").stack().to_frame(\"unit_sales\")\n",
    "df_preds.index.set_names([\"store_nbr\", \"item_nbr\", \"date\"], inplace=True)\n",
    "df_preds[\"unit_sales\"] = np.clip(np.expm1(df_preds[\"unit_sales\"]), 0, 1000)\n",
    "df_preds.reset_index().to_csv('nn_cv.csv', index=False)\n",
    "\n",
    "print(\"Making submission...\")\n",
    "y_test = np.array(test_pred).squeeze(axis=2).transpose()\n",
    "df_preds = pd.DataFrame(\n",
    "    y_test, index=df_2017.index,\n",
    "    columns=pd.date_range(\"2017-08-16\", periods=16)\n",
    ").stack().to_frame(\"unit_sales\")\n",
    "df_preds.index.set_names([\"store_nbr\", \"item_nbr\", \"date\"], inplace=True)\n",
    "\n",
    "submission = df_test[[\"id\"]].join(df_preds, how=\"left\").fillna(0)\n",
    "submission[\"unit_sales\"] = np.clip(np.expm1(submission[\"unit_sales\"]), 0, 1000)\n",
    "submission.to_csv('nn_sub.csv', float_format='%.4f', index=None)"
   ]
  }
 ],
 "metadata": {
  "kernelspec": {
   "display_name": "Python 3",
   "language": "python",
   "name": "python3"
  },
  "language_info": {
   "codemirror_mode": {
    "name": "ipython",
    "version": 3
   },
   "file_extension": ".py",
   "mimetype": "text/x-python",
   "name": "python",
   "nbconvert_exporter": "python",
   "pygments_lexer": "ipython3",
   "version": "3.6.3"
  }
 },
 "nbformat": 4,
 "nbformat_minor": 2
}
