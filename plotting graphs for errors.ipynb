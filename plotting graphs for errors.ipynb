{
 "cells": [
  {
   "cell_type": "code",
   "execution_count": null,
   "metadata": {
    "collapsed": true
   },
   "outputs": [],
   "source": [
    "from datetime import date, timedelta\n",
    "import pandas as pd\n",
    "import numpy as np\n",
    "\n",
    "import matplotlib.pyplot as plt\n",
    "%matplotlib inline\n",
    "plt.rcParams[\"figure.figsize\"] = [12, 9]"
   ]
  },
  {
   "cell_type": "code",
   "execution_count": null,
   "metadata": {},
   "outputs": [],
   "source": [
    "## Read the data\n",
    "df_train = pd.read_csv(\n",
    "    '/Users/prasad/Desktop/Ecuador/train.csv', usecols=[1, 2, 3, 4, 5],\n",
    "    dtype={'onpromotion': bool},\n",
    "    parse_dates=[\"date\"],\n",
    "    skiprows=range(1, 66458909)  # 2016-01-01\n",
    ")"
   ]
  },
  {
   "cell_type": "code",
   "execution_count": null,
   "metadata": {},
   "outputs": [],
   "source": [
    "## Unstack dates columns of dataframe\n",
    "df_2017 = df_train.loc[df_train.date>=pd.datetime(2017,1,1)]\n",
    "del df_train\n",
    "df_2017 = df_2017.set_index(\n",
    "    [\"store_nbr\", \"item_nbr\", \"date\"])[[\"unit_sales\"]].unstack(\n",
    "        level=-1).fillna(0)\n",
    "df_2017.columns = df_2017.columns.get_level_values(1)"
   ]
  },
  {
   "cell_type": "code",
   "execution_count": null,
   "metadata": {},
   "outputs": [],
   "source": [
    "## read in the predicted cross validation period sales of the model for which the plots are to be made\n",
    "df_pred_final_nn = pd.read_csv('nn_cv.csv',parse_dates=[\"date\"])\n",
    "df_pred_final_nn.set_index([\"store_nbr\", \"item_nbr\", \"date\"], inplace=True)"
   ]
  },
  {
   "cell_type": "code",
   "execution_count": null,
   "metadata": {
    "collapsed": true
   },
   "outputs": [],
   "source": [
    "## Join tables to create a large dataframe of actual sales and predicted sales\n",
    "graph_act = df_2017[pd.date_range(\"2017-06-06\", periods=66)].stack().to_frame(\"unit_sales\")"
   ]
  },
  {
   "cell_type": "code",
   "execution_count": null,
   "metadata": {
    "collapsed": true
   },
   "outputs": [],
   "source": [
    "graph = graph_act.join(df_pred_final_nn, how = 'left', lsuffix = 'actual',rsuffix='pred').reset_index()"
   ]
  },
  {
   "cell_type": "code",
   "execution_count": null,
   "metadata": {
    "collapsed": true
   },
   "outputs": [],
   "source": [
    "## Datapoints of sales for all 66 days for store number 54 and item number 2053614\n",
    "graph_trial = graph.loc[(graph['store_nbr']== 54) & (graph['item_nbr']==2053614),:]"
   ]
  },
  {
   "cell_type": "code",
   "execution_count": null,
   "metadata": {},
   "outputs": [],
   "source": [
    "## Plots\n",
    "ax = graph_trial.plot(x=\"date\", y=\"unit_salesactual\", kind=\"line\")\n",
    "graph_trial.plot(x=\"date\", y=\"unit_salespred\", kind=\"line\", ax=ax, color=\"C2\")"
   ]
  },
  {
   "cell_type": "code",
   "execution_count": null,
   "metadata": {},
   "outputs": [],
   "source": [
    "graph_trial = graph.loc[(graph['store_nbr']== 54) & (graph['item_nbr']==270522),:]\n",
    "ax = graph_trial.plot(x=\"date\", y=\"unit_salesactual\", kind=\"line\")\n",
    "graph_trial.plot(x=\"date\", y=\"unit_salespred\", kind=\"line\", ax=ax, color=\"C2\")"
   ]
  },
  {
   "cell_type": "code",
   "execution_count": null,
   "metadata": {
    "collapsed": true
   },
   "outputs": [],
   "source": [
    "## Plotting errors as difference between log of predicted sales and actual sales \n",
    "graph['unit_salespred'] = [np.log1p(float(u)) if float(u) > 0 else 0 for u in graph['unit_salespred']]\n",
    "graph['unit_salesactual'] = [np.log1p(float(u)) if float(u) > 0 else 0 for u in graph['unit_salesactual']]\n",
    "graph['errors'] = (graph['unit_salespred'] - graph['unit_salesactual'])"
   ]
  },
  {
   "cell_type": "code",
   "execution_count": null,
   "metadata": {},
   "outputs": [],
   "source": [
    "graph.loc[graph['date'] >= \"2017-07-26\",:].boxplot(by=\"date\", column=\"errors\",rot=90)"
   ]
  },
  {
   "cell_type": "code",
   "execution_count": null,
   "metadata": {
    "collapsed": true
   },
   "outputs": [],
   "source": []
  }
 ],
 "metadata": {
  "kernelspec": {
   "display_name": "Python 2",
   "language": "python",
   "name": "python2"
  },
  "language_info": {
   "codemirror_mode": {
    "name": "ipython",
    "version": 2
   },
   "file_extension": ".py",
   "mimetype": "text/x-python",
   "name": "python",
   "nbconvert_exporter": "python",
   "pygments_lexer": "ipython2",
   "version": "2.7.13"
  }
 },
 "nbformat": 4,
 "nbformat_minor": 2
}
