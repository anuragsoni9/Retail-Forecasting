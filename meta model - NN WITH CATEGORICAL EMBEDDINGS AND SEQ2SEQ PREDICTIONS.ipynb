{
 "cells": [
  {
   "cell_type": "markdown",
   "metadata": {},
   "source": [
    "## Load required libraries and data"
   ]
  },
  {
   "cell_type": "code",
   "execution_count": 174,
   "metadata": {
    "collapsed": true
   },
   "outputs": [],
   "source": [
    "from datetime import date, timedelta\n",
    "import pandas as pd\n",
    "import numpy as np\n",
    "from sklearn.preprocessing import LabelEncoder\n",
    "from sklearn.metrics import mean_squared_error\n",
    "from sklearn.preprocessing import StandardScaler\n",
    "from keras.models import Model, Sequential\n",
    "from keras.layers.core import Dense, Dropout, Activation, Reshape\n",
    "from keras.layers.advanced_activations import PReLU\n",
    "from keras.layers.normalization import BatchNormalization\n",
    "from keras.layers import LSTM\n",
    "from keras import callbacks\n",
    "from keras import optimizers\n",
    "from keras.callbacks import ModelCheckpoint, EarlyStopping, ReduceLROnPlateau\n",
    "from keras.layers.merge import concatenate\n",
    "from keras.layers import Input\n",
    "from keras.layers import Merge\n",
    "from keras.layers.embeddings import Embedding\n",
    "import h5py\n",
    "import gc"
   ]
  },
  {
   "cell_type": "code",
   "execution_count": 175,
   "metadata": {
    "collapsed": true
   },
   "outputs": [],
   "source": [
    "## Applying a log transform \n",
    "df_train = pd.read_csv(\n",
    "    'train.csv', usecols=[1, 2, 3, 4, 5],\n",
    "    dtype={'onpromotion': bool},\n",
    "    converters={'unit_sales': lambda u: np.log1p(\n",
    "        float(u)) if float(u) > 0 else 0},\n",
    "    parse_dates=[\"date\"],\n",
    "    skiprows=range(1, 66458909)  # 2016-01-01\n",
    ")"
   ]
  },
  {
   "cell_type": "code",
   "execution_count": 176,
   "metadata": {
    "collapsed": true
   },
   "outputs": [],
   "source": [
    "df_test = pd.read_csv(\n",
    "    \"test.csv\", usecols=[0, 1, 2, 3, 4],\n",
    "    dtype={'onpromotion': bool},\n",
    "    parse_dates=[\"date\"]  # , date_parser=parser\n",
    ").set_index(\n",
    "    ['store_nbr', 'item_nbr', 'date']\n",
    ")"
   ]
  },
  {
   "cell_type": "code",
   "execution_count": 177,
   "metadata": {
    "collapsed": true
   },
   "outputs": [],
   "source": [
    "items = pd.read_csv(\n",
    "    \"items.csv\",\n",
    ").set_index(\"item_nbr\")"
   ]
  },
  {
   "cell_type": "code",
   "execution_count": 178,
   "metadata": {
    "collapsed": true
   },
   "outputs": [],
   "source": [
    "stores = pd.read_csv(\n",
    "    \"stores.csv\",\n",
    ").set_index(\"store_nbr\")"
   ]
  },
  {
   "cell_type": "code",
   "execution_count": null,
   "metadata": {},
   "outputs": [],
   "source": [
    "### Encoding the categorical variables"
   ]
  },
  {
   "cell_type": "code",
   "execution_count": 179,
   "metadata": {
    "collapsed": true
   },
   "outputs": [],
   "source": [
    "le = LabelEncoder()\n",
    "items['family'] = le.fit_transform(items['family'].values)"
   ]
  },
  {
   "cell_type": "code",
   "execution_count": 327,
   "metadata": {},
   "outputs": [
    {
     "data": {
      "text/plain": [
       "array([12, 12, 12, ...,  3,  7, 12])"
      ]
     },
     "execution_count": 327,
     "metadata": {},
     "output_type": "execute_result"
    }
   ],
   "source": [
    "items['family'].values"
   ]
  },
  {
   "cell_type": "code",
   "execution_count": 180,
   "metadata": {
    "collapsed": true
   },
   "outputs": [],
   "source": [
    "stores['city'] = le.fit_transform(stores['city'].values)\n",
    "stores['state'] = le.fit_transform(stores['state'].values)\n",
    "stores['type'] = le.fit_transform(stores['type'].values)"
   ]
  },
  {
   "cell_type": "code",
   "execution_count": 181,
   "metadata": {
    "collapsed": true
   },
   "outputs": [],
   "source": [
    "## filtering for 2017 data only\n",
    "df_2017 = df_train.loc[df_train.date>=pd.datetime(2017,1,1)]\n",
    "del df_train"
   ]
  },
  {
   "cell_type": "code",
   "execution_count": 182,
   "metadata": {
    "collapsed": true
   },
   "outputs": [],
   "source": [
    "## Unstacking promos into wide format\n",
    "promo_2017_train = df_2017.set_index(\n",
    "    [\"store_nbr\", \"item_nbr\", \"date\"])[[\"onpromotion\"]].unstack(\n",
    "        level=-1).fillna(False)"
   ]
  },
  {
   "cell_type": "code",
   "execution_count": 183,
   "metadata": {
    "collapsed": true
   },
   "outputs": [],
   "source": [
    "promo_2017_train.columns = promo_2017_train.columns.get_level_values(1)\n",
    "promo_2017_test = df_test[[\"onpromotion\"]].unstack(level=-1).fillna(False)\n",
    "promo_2017_test.columns = promo_2017_test.columns.get_level_values(1)\n",
    "promo_2017_test = promo_2017_test.reindex(promo_2017_train.index).fillna(False)\n",
    "promo_2017 = pd.concat([promo_2017_train, promo_2017_test], axis=1)\n",
    "del promo_2017_test, promo_2017_train"
   ]
  },
  {
   "cell_type": "code",
   "execution_count": 184,
   "metadata": {
    "collapsed": true
   },
   "outputs": [],
   "source": [
    "## Unstacking train sales into wide format\n",
    "df_2017 = df_2017.set_index(\n",
    "    [\"store_nbr\", \"item_nbr\", \"date\"])[[\"unit_sales\"]].unstack(\n",
    "        level=-1).fillna(0)\n",
    "df_2017.columns = df_2017.columns.get_level_values(1)"
   ]
  },
  {
   "cell_type": "code",
   "execution_count": 185,
   "metadata": {
    "collapsed": true
   },
   "outputs": [],
   "source": [
    "## reindexing to have order and size similar to df_2017\n",
    "items = items.reindex(df_2017.index.get_level_values(1))\n",
    "stores = stores.reindex(df_2017.index.get_level_values(0))"
   ]
  },
  {
   "cell_type": "code",
   "execution_count": 186,
   "metadata": {
    "collapsed": true
   },
   "outputs": [],
   "source": [
    "## Aggregating at item nbr level\n",
    "df_2017_item = df_2017.groupby('item_nbr')[df_2017.columns].sum()\n",
    "promo_2017_item = promo_2017.groupby('item_nbr')[promo_2017.columns].sum()"
   ]
  },
  {
   "cell_type": "code",
   "execution_count": 187,
   "metadata": {
    "collapsed": true
   },
   "outputs": [],
   "source": [
    "## Aggregating at store class level\n",
    "df_2017_store_class = df_2017.reset_index()\n",
    "df_2017_store_class['class'] = items['class'].values\n",
    "df_2017_store_class_index = df_2017_store_class[['class', 'store_nbr']]\n",
    "df_2017_store_class = df_2017_store_class.groupby(['class', 'store_nbr'])[df_2017.columns].sum()"
   ]
  },
  {
   "cell_type": "code",
   "execution_count": 188,
   "metadata": {
    "collapsed": true
   },
   "outputs": [],
   "source": [
    "df_2017_promo_store_class = promo_2017.reset_index()\n",
    "df_2017_promo_store_class['class'] = items['class'].values\n",
    "df_2017_promo_store_class_index = df_2017_promo_store_class[['class', 'store_nbr']]\n",
    "df_2017_promo_store_class = df_2017_promo_store_class.groupby(['class', 'store_nbr'])[promo_2017.columns].sum()"
   ]
  },
  {
   "cell_type": "markdown",
   "metadata": {},
   "source": [
    "### Preparing datasets for model"
   ]
  },
  {
   "cell_type": "code",
   "execution_count": 189,
   "metadata": {
    "collapsed": true
   },
   "outputs": [],
   "source": [
    "def get_timespan(df, dt, minus, periods, freq='D'):\n",
    "    return df[pd.date_range(dt - timedelta(days=minus), periods=periods, freq=freq)]"
   ]
  },
  {
   "cell_type": "code",
   "execution_count": 190,
   "metadata": {
    "collapsed": true
   },
   "outputs": [],
   "source": [
    "def prepare_dataset(df, promo_df, t2017, is_train=True, name_prefix=None):\n",
    "    X = {\n",
    "        \"promo_14_2017\": get_timespan(promo_df, t2017, 14, 14).sum(axis=1).values,\n",
    "        \"promo_60_2017\": get_timespan(promo_df, t2017, 60, 60).sum(axis=1).values,\n",
    "        \"promo_140_2017\": get_timespan(promo_df, t2017, 140, 140).sum(axis=1).values,\n",
    "        \"promo_3_2017_aft\": get_timespan(promo_df, t2017 + timedelta(days=16), 15, 3).sum(axis=1).values,\n",
    "        \"promo_7_2017_aft\": get_timespan(promo_df, t2017 + timedelta(days=16), 15, 7).sum(axis=1).values,\n",
    "        \"promo_14_2017_aft\": get_timespan(promo_df, t2017 + timedelta(days=16), 15, 14).sum(axis=1).values,\n",
    "    }\n",
    "\n",
    "    for i in [3, 7, 14, 30, 60, 140]:\n",
    "        tmp = get_timespan(df, t2017, i, i)\n",
    "        X['diff_%s_mean' % i] = tmp.diff(axis=1).mean(axis=1).values\n",
    "        X['mean_%s_decay' % i] = (tmp * np.power(0.9, np.arange(i)[::-1])).sum(axis=1).values\n",
    "        X['mean_%s' % i] = tmp.mean(axis=1).values\n",
    "        X['median_%s' % i] = tmp.median(axis=1).values\n",
    "        X['min_%s' % i] = tmp.min(axis=1).values\n",
    "        X['max_%s' % i] = tmp.max(axis=1).values\n",
    "        X['std_%s' % i] = tmp.std(axis=1).values\n",
    "\n",
    "    for i in [3, 7, 14, 30, 60, 140]:\n",
    "        tmp = get_timespan(df, t2017 + timedelta(days=-7), i, i)\n",
    "        X['diff_%s_mean_2' % i] = tmp.diff(axis=1).mean(axis=1).values\n",
    "        X['mean_%s_decay_2' % i] = (tmp * np.power(0.9, np.arange(i)[::-1])).sum(axis=1).values\n",
    "        X['mean_%s_2' % i] = tmp.mean(axis=1).values\n",
    "        X['median_%s_2' % i] = tmp.median(axis=1).values\n",
    "        X['min_%s_2' % i] = tmp.min(axis=1).values\n",
    "        X['max_%s_2' % i] = tmp.max(axis=1).values\n",
    "        X['std_%s_2' % i] = tmp.std(axis=1).values\n",
    "\n",
    "    for i in [7, 14, 30, 60, 140]:\n",
    "        tmp = get_timespan(df, t2017, i, i)\n",
    "        X['has_sales_days_in_last_%s' % i] = (tmp > 0).sum(axis=1).values\n",
    "        X['last_has_sales_day_in_last_%s' % i] = i - ((tmp > 0) * np.arange(i)).max(axis=1).values\n",
    "        X['first_has_sales_day_in_last_%s' % i] = ((tmp > 0) * np.arange(i, 0, -1)).max(axis=1).values\n",
    "\n",
    "        tmp = get_timespan(promo_df, t2017, i, i)\n",
    "        X['has_promo_days_in_last_%s' % i] = (tmp > 0).sum(axis=1).values\n",
    "        X['last_has_promo_day_in_last_%s' % i] = i - ((tmp > 0) * np.arange(i)).max(axis=1).values\n",
    "        X['first_has_promo_day_in_last_%s' % i] = ((tmp > 0) * np.arange(i, 0, -1)).max(axis=1).values\n",
    "\n",
    "    tmp = get_timespan(promo_df, t2017 + timedelta(days=16), 15, 15)\n",
    "    X['has_promo_days_in_after_15_days'] = (tmp > 0).sum(axis=1).values\n",
    "    X['last_has_promo_day_in_after_15_days'] = i - ((tmp > 0) * np.arange(15)).max(axis=1).values\n",
    "    X['first_has_promo_day_in_after_15_days'] = ((tmp > 0) * np.arange(15, 0, -1)).max(axis=1).values\n",
    "\n",
    "    for i in range(1, 16):\n",
    "        X['day_%s_2017' % i] = get_timespan(df, t2017, i, 1).values.ravel()\n",
    "\n",
    "    for i in range(7):\n",
    "        X['mean_4_dow{}_2017'.format(i)] = get_timespan(df, t2017, 28-i, 4, freq='7D').mean(axis=1).values\n",
    "        X['mean_20_dow{}_2017'.format(i)] = get_timespan(df, t2017, 140-i, 20, freq='7D').mean(axis=1).values\n",
    "\n",
    "    for i in range(-16, 16):\n",
    "        X[\"promo_{}\".format(i)] = promo_df[t2017 + timedelta(days=i)].values.astype(np.uint8)\n",
    "        \n",
    "    X = pd.DataFrame(X)\n",
    "\n",
    "    if is_train:\n",
    "        y = df[\n",
    "            pd.date_range(t2017, periods=16)\n",
    "        ].values\n",
    "        return X, y\n",
    "    if name_prefix is not None:\n",
    "        X.columns = ['%s_%s' % (name_prefix, c) for c in X.columns]\n",
    "    return X"
   ]
  },
  {
   "cell_type": "code",
   "execution_count": 191,
   "metadata": {},
   "outputs": [
    {
     "name": "stdout",
     "output_type": "stream",
     "text": [
      "Preparing dataset...\n"
     ]
    }
   ],
   "source": [
    "print(\"Preparing dataset...\")\n",
    "num_days = 31\n",
    "t2017 = date(2017, 5, 31)\n",
    "X_l, y_l = [], []\n",
    "for i in range(num_days):\n",
    "    delta = timedelta(days=1 * i)\n",
    "    X_tmp, y_tmp = prepare_dataset(df_2017, promo_2017, t2017 + delta)\n",
    "\n",
    "    X_tmp2 = prepare_dataset(df_2017_item, promo_2017_item, t2017 + delta, is_train=False, name_prefix='item')\n",
    "    X_tmp2.index = df_2017_item.index\n",
    "    X_tmp2 = X_tmp2.reindex(df_2017.index.get_level_values(1)).reset_index(drop=True)\n",
    "\n",
    "    X_tmp3 = prepare_dataset(df_2017_store_class, df_2017_promo_store_class, t2017 + delta, is_train=False, name_prefix='store_class')\n",
    "    X_tmp3.index = df_2017_store_class.index\n",
    "    X_tmp3 = X_tmp3.reindex(df_2017_store_class_index).reset_index(drop=True)\n",
    "\n",
    "    X_tmp = pd.concat([X_tmp, X_tmp2, X_tmp3, items.reset_index(), stores.reset_index()], axis=1)\n",
    "    \n",
    "    for i in range(16):\n",
    "        X_tmp['dayofmonth_%s' % i] = np.repeat(((t2017+ delta) + timedelta(days=i)).day,X_tmp.shape[0])\n",
    "        X_tmp['dayofweek_%s' % i] = np.repeat(((t2017+ delta) + timedelta(days=i)).weekday(),X_tmp.shape[0])\n",
    "\n",
    "    X_l.append(X_tmp)\n",
    "    y_l.append(y_tmp)"
   ]
  },
  {
   "cell_type": "code",
   "execution_count": 192,
   "metadata": {
    "collapsed": true
   },
   "outputs": [],
   "source": [
    "X_train = pd.concat(X_l, axis=0)\n",
    "y_train = np.concatenate(y_l, axis=0)"
   ]
  },
  {
   "cell_type": "code",
   "execution_count": 193,
   "metadata": {
    "collapsed": true
   },
   "outputs": [],
   "source": [
    "X_train.loc[X_train['dayofmonth_0'] == 31, ['dayofmonth_0']] = 30"
   ]
  },
  {
   "cell_type": "code",
   "execution_count": 194,
   "metadata": {
    "collapsed": true
   },
   "outputs": [],
   "source": [
    "del X_l, y_l"
   ]
  },
  {
   "cell_type": "code",
   "execution_count": 195,
   "metadata": {
    "collapsed": true
   },
   "outputs": [],
   "source": [
    "X_val, y_val = prepare_dataset(df_2017, promo_2017, date(2017, 7, 26))\n",
    "X_val2 = prepare_dataset(df_2017_item, promo_2017_item, date(2017, 7, 26), is_train=False, name_prefix='item')\n",
    "X_val2.index = df_2017_item.index\n",
    "X_val2 = X_val2.reindex(df_2017.index.get_level_values(1)).reset_index(drop=True)"
   ]
  },
  {
   "cell_type": "code",
   "execution_count": 196,
   "metadata": {
    "collapsed": true
   },
   "outputs": [],
   "source": [
    "X_val3 = prepare_dataset(df_2017_store_class, df_2017_promo_store_class, date(2017, 7, 26), is_train=False, name_prefix='store_class')\n",
    "X_val3.index = df_2017_store_class.index\n",
    "X_val3 = X_val3.reindex(df_2017_store_class_index).reset_index(drop=True)"
   ]
  },
  {
   "cell_type": "code",
   "execution_count": 197,
   "metadata": {
    "collapsed": true
   },
   "outputs": [],
   "source": [
    "X_val = pd.concat([X_val, X_val2, X_val3, items.reset_index(), stores.reset_index()], axis=1)"
   ]
  },
  {
   "cell_type": "code",
   "execution_count": 198,
   "metadata": {
    "collapsed": true
   },
   "outputs": [],
   "source": [
    "for i in range(16):\n",
    "        X_val['dayofmonth_%s' % i] = np.repeat((date(2017, 7, 26) + timedelta(days=i)).day,X_val.shape[0])\n",
    "        X_val['dayofweek_%s' % i] = np.repeat((date(2017, 7, 26) + timedelta(days=i)).weekday(),X_val.shape[0])"
   ]
  },
  {
   "cell_type": "code",
   "execution_count": 199,
   "metadata": {
    "collapsed": true
   },
   "outputs": [],
   "source": [
    "X_val.loc[X_val['dayofmonth_5'] == 31, ['dayofmonth_5']] = 30"
   ]
  },
  {
   "cell_type": "code",
   "execution_count": 200,
   "metadata": {
    "collapsed": true
   },
   "outputs": [],
   "source": [
    "X_test = prepare_dataset(df_2017, promo_2017, date(2017, 8, 16), is_train=False)\n",
    "X_test2 = prepare_dataset(df_2017_item, promo_2017_item, date(2017, 8, 16), is_train=False, name_prefix='item')\n",
    "X_test2.index = df_2017_item.index\n",
    "X_test2 = X_test2.reindex(df_2017.index.get_level_values(1)).reset_index(drop=True)"
   ]
  },
  {
   "cell_type": "code",
   "execution_count": 201,
   "metadata": {
    "collapsed": true
   },
   "outputs": [],
   "source": [
    "X_test3 = prepare_dataset(df_2017_store_class, df_2017_promo_store_class, date(2017, 8, 16), is_train=False, name_prefix='store_class')\n",
    "X_test3.index = df_2017_store_class.index\n",
    "X_test3 = X_test3.reindex(df_2017_store_class_index).reset_index(drop=True)"
   ]
  },
  {
   "cell_type": "code",
   "execution_count": 202,
   "metadata": {
    "collapsed": true
   },
   "outputs": [],
   "source": [
    "X_test = pd.concat([X_test, X_test2, X_test3, items.reset_index(), stores.reset_index()], axis=1)"
   ]
  },
  {
   "cell_type": "code",
   "execution_count": 203,
   "metadata": {
    "collapsed": true
   },
   "outputs": [],
   "source": [
    "for i in range(16):\n",
    "        X_test['dayofmonth_%s' % i] = np.repeat((date(2017, 8, 16) + timedelta(days=i)).day,X_test.shape[0])\n",
    "        X_test['dayofweek_%s' % i] = np.repeat((date(2017, 8, 16) + timedelta(days=i)).weekday(),X_test.shape[0])"
   ]
  },
  {
   "cell_type": "code",
   "execution_count": 204,
   "metadata": {
    "collapsed": true
   },
   "outputs": [],
   "source": [
    "X_test.loc[X_test['dayofmonth_15'] == 31, ['dayofmonth_15']] = 30"
   ]
  },
  {
   "cell_type": "markdown",
   "metadata": {},
   "source": [
    "## Categorical Embedding"
   ]
  },
  {
   "cell_type": "code",
   "execution_count": 205,
   "metadata": {
    "collapsed": true
   },
   "outputs": [],
   "source": [
    "sample_weights=np.array( pd.concat([items[\"perishable\"]] * num_days) * 0.25 + 1 )"
   ]
  },
  {
   "cell_type": "code",
   "execution_count": 206,
   "metadata": {
    "collapsed": true
   },
   "outputs": [],
   "source": [
    "import copy"
   ]
  },
  {
   "cell_type": "code",
   "execution_count": 207,
   "metadata": {
    "collapsed": true
   },
   "outputs": [],
   "source": [
    "X_train_dnn = copy.copy(X_train.iloc[:,[552,553,554,556,557,558,559,560,561,562]]).values"
   ]
  },
  {
   "cell_type": "code",
   "execution_count": 208,
   "metadata": {
    "collapsed": true
   },
   "outputs": [],
   "source": [
    "X_val_dnn = copy.copy(X_val.iloc[:,[552,553,554,556,557,558,559,560,561,562]]).values"
   ]
  },
  {
   "cell_type": "code",
   "execution_count": 209,
   "metadata": {
    "collapsed": true
   },
   "outputs": [],
   "source": [
    "les = []\n",
    "for i in range(X_train_dnn.shape[1]):\n",
    "    le = LabelEncoder()\n",
    "    le.fit(X_train.iloc[:,[552,553,554,556,557,558,559,560,561,562]].iloc[:, i])\n",
    "    les.append(le)\n",
    "    X_train_dnn[:, i] = le.transform(X_train_dnn[:, i])\n",
    "    X_val_dnn[:, i] = le.transform(X_val_dnn[:, i])"
   ]
  },
  {
   "cell_type": "code",
   "execution_count": 210,
   "metadata": {
    "collapsed": true
   },
   "outputs": [],
   "source": [
    "def split_features(X):\n",
    "    X_list = []\n",
    "    \n",
    "    item_nbr = X[..., [0]]\n",
    "    X_list.append(item_nbr)\n",
    "    \n",
    "    family = X[..., [1]]\n",
    "    X_list.append(family)\n",
    "    \n",
    "    class1 = X[..., [2]]\n",
    "    X_list.append(class1)\n",
    "    \n",
    "    store_nbr = X[..., [3]]\n",
    "    X_list.append(store_nbr)\n",
    "    \n",
    "    city = X[..., [4]]\n",
    "    X_list.append(city)\n",
    "    \n",
    "    state = X[..., [5]]\n",
    "    X_list.append(state)\n",
    "    \n",
    "    type1 = X[..., [6]]\n",
    "    X_list.append(type1)\n",
    "    \n",
    "    cluster = X[..., [7]]\n",
    "    X_list.append(cluster)\n",
    "    \n",
    "    dayofmonth_0 = X[..., [8]]\n",
    "    X_list.append(dayofmonth_0)\n",
    "    \n",
    "    dayofweek_0 = X[..., [9]]\n",
    "    X_list.append(dayofweek_0)\n",
    "    \n",
    "    return X_list"
   ]
  },
  {
   "cell_type": "code",
   "execution_count": 211,
   "metadata": {
    "collapsed": true
   },
   "outputs": [],
   "source": [
    "class NN_with_EntityEmbedding(object):\n",
    "    def __init__(self, X_train, y_train, X_val, y_val):\n",
    "            self.nb_epoch = 2\n",
    "            self.__build_keras_model()\n",
    "            self.fit(X_train, y_train, X_val, y_val)\n",
    "    def preprocessing(self, X):\n",
    "            X_list = split_features(X)\n",
    "            return X_list\n",
    "    def __build_keras_model(self):\n",
    "            models = []\n",
    "            \n",
    "            modelitmnbr_in = Input(shape=(1,))\n",
    "            modelitmnbr_out = Embedding(len(les[0].classes_), 50, input_length=1)(modelitmnbr_in)\n",
    "            modelitmnbr_out = Reshape(target_shape=(50,))(modelitmnbr_out)\n",
    "            #modelfamily = Model(modelfamily_in, modelfamily_out)\n",
    "            models.append(modelitmnbr_out)\n",
    "            \n",
    "            modelfamily_in = Input(shape=(1,))\n",
    "            modelfamily_out = Embedding(len(les[1].classes_), 16, input_length=1)(modelfamily_in)\n",
    "            modelfamily_out = Reshape(target_shape=(16,))(modelfamily_out)\n",
    "            #modelfamily = Model(modelfamily_in, modelfamily_out)\n",
    "            models.append(modelfamily_out)\n",
    "            \n",
    "            modelclass_in = Input(shape=(1,))\n",
    "            modelclass_out = Embedding(len(les[2].classes_), 50, input_length=1)(modelclass_in)\n",
    "            modelclass_out = Reshape(target_shape=(50,))(modelclass_out)\n",
    "            #modelclass = Model(modelclass_in, modelclass_out)\n",
    "            models.append(modelclass_out)\n",
    "            \n",
    "            modelstrnbr_in = Input(shape=(1,))\n",
    "            modelstrnbr_out = Embedding(len(les[3].classes_), 27, input_length=1)(modelstrnbr_in)\n",
    "            modelstrnbr_out = Reshape(target_shape=(27,))(modelstrnbr_out)\n",
    "            #modelfamily = Model(modelfamily_in, modelfamily_out)\n",
    "            models.append(modelstrnbr_out)\n",
    "\n",
    "            modelcity_in = Input(shape=(1,))\n",
    "            modelcity_out = Embedding(len(les[4].classes_), 11, input_length=1)(modelcity_in)\n",
    "            modelcity_out = Reshape(target_shape=(11,))(modelcity_out)\n",
    "            #modelcity = Model(modelcity_in, modelcity_out)\n",
    "            models.append(modelcity_out)\n",
    "            \n",
    "            modelstate_in = Input(shape=(1,))\n",
    "            modelstate_out = Embedding(len(les[5].classes_), 8, input_length=1)(modelstate_in)\n",
    "            modelstate_out = Reshape(target_shape=(8,))(modelstate_out)\n",
    "            #modelstate = Model(modelstate_in, modelstate_out)\n",
    "            models.append(modelstate_out)\n",
    "            \n",
    "            modeltype_in = Input(shape=(1,))\n",
    "            modeltype_out = Embedding(len(les[6].classes_), 5, input_length=1)(modeltype_in)\n",
    "            modeltype_out = Reshape(target_shape=(5,))(modeltype_out)\n",
    "            #modeltype = Model(modeltype_in, modeltype_out)\n",
    "            models.append(modeltype_out)\n",
    "            \n",
    "            modelcluster_in = Input(shape=(1,))\n",
    "            modelcluster_out = Embedding(len(les[7].classes_), 8, input_length=1)(modelcluster_in)\n",
    "            modelcluster_out = Reshape(target_shape=(8,))(modelcluster_out)\n",
    "            #modelcluster = Model(modelcluster_in, modelcluster_out)\n",
    "            models.append(modelcluster_out)\n",
    "            \n",
    "            modeldom_in = Input(shape=(1,))\n",
    "            modeldom_out = Embedding(len(les[8].classes_), 15, input_length=1)(modeldom_in)\n",
    "            modeldom_out = Reshape(target_shape=(15,))(modeldom_out)\n",
    "            #modelcluster = Model(modelcluster_in, modelcluster_out)\n",
    "            models.append(modeldom_out)\n",
    "            \n",
    "            modeldow_in = Input(shape=(1,))\n",
    "            modeldow_out = Embedding(len(les[9].classes_), 4, input_length=1)(modeldow_in)\n",
    "            modeldow_out = Reshape(target_shape=(4,))(modeldow_out)\n",
    "            #modelcluster = Model(modelcluster_in, modelcluster_out)\n",
    "            models.append(modeldow_out)\n",
    "            \n",
    "            concatenated = concatenate(models)\n",
    "            out = Dense(256, activation='relu', kernel_initializer='uniform')(concatenated)\n",
    "            out1 = Dense(128, activation='relu', kernel_initializer='uniform')(out)\n",
    "            out2 = Dense(1, activation='relu', kernel_initializer='uniform')(out1)\n",
    "            \n",
    "            self.model = Model([modelitmnbr_in,modelfamily_in,modelclass_in,modelstrnbr_in,\n",
    "                                modelcity_in,modelstate_in,modeltype_in, modelcluster_in,\n",
    "                                modeldom_in,modeldow_in], out2)\n",
    "            \n",
    "            self.model.compile(loss='mse', optimizer='adam', \n",
    "                                 metrics=['accuracy'])\n",
    "\n",
    "        \n",
    "    def fit(self, X_train, y_train, X_val, y_val):\n",
    "            self.model.fit(self.preprocessing(X_train), y_train,\n",
    "                           validation_data=(self.preprocessing(X_val), y_val),\n",
    "                           epochs=self.nb_epoch, batch_size=512,sample_weight = sample_weights\n",
    "                           )"
   ]
  },
  {
   "cell_type": "code",
   "execution_count": 212,
   "metadata": {},
   "outputs": [
    {
     "name": "stdout",
     "output_type": "stream",
     "text": [
      "Train on 5192965 samples, validate on 167515 samples\n",
      "Epoch 1/2\n",
      "5192965/5192965 [==============================] - 69s 13us/step - loss: 0.5074 - acc: 0.2190 - val_loss: 0.4996 - val_acc: 0.2344\n",
      "Epoch 2/2\n",
      "5192965/5192965 [==============================] - 64s 12us/step - loss: 0.4218 - acc: 0.2397 - val_loss: 0.4797 - val_acc: 0.2505\n"
     ]
    }
   ],
   "source": [
    "dnn = NN_with_EntityEmbedding(X_train_dnn, y_train[:,[0]], X_val_dnn, y_val[:,[0]])"
   ]
  },
  {
   "cell_type": "markdown",
   "metadata": {},
   "source": [
    "## Create entity embedding data frames"
   ]
  },
  {
   "cell_type": "code",
   "execution_count": 213,
   "metadata": {
    "collapsed": true
   },
   "outputs": [],
   "source": [
    "weights = dnn.model.get_weights()"
   ]
  },
  {
   "cell_type": "code",
   "execution_count": 214,
   "metadata": {
    "collapsed": true
   },
   "outputs": [],
   "source": [
    "item_nbr_embeddings = pd.DataFrame(weights[0])\n",
    "item_nbr_embeddings.columns = ['item_nbr'+str(i) for i in range(len(item_nbr_embeddings.columns.values))]\n",
    "item_nbr_embeddings['item_nbr'] = les[0].inverse_transform(np.unique(X_train_dnn[..., [0]]))\n",
    "item_nbr_embeddings = item_nbr_embeddings.set_index('item_nbr')"
   ]
  },
  {
   "cell_type": "code",
   "execution_count": 215,
   "metadata": {
    "collapsed": true
   },
   "outputs": [],
   "source": [
    "item_family_embeddings = pd.DataFrame(weights[1])\n",
    "item_family_embeddings.columns = ['family'+str(i) for i in range(len(item_family_embeddings.columns.values))]\n",
    "item_family_embeddings['family'] = les[1].inverse_transform(np.unique(X_train_dnn[..., [1]]))\n",
    "item_family_embeddings = item_family_embeddings.set_index('family')"
   ]
  },
  {
   "cell_type": "code",
   "execution_count": 216,
   "metadata": {
    "collapsed": true
   },
   "outputs": [],
   "source": [
    "item_class_embeddings = pd.DataFrame(weights[2])\n",
    "item_class_embeddings.columns = ['class'+str(i) for i in range(len(item_class_embeddings.columns.values))]\n",
    "item_class_embeddings['class'] = les[2].inverse_transform(np.unique(X_train_dnn[..., [2]]))\n",
    "item_class_embeddings = item_class_embeddings.set_index('class')"
   ]
  },
  {
   "cell_type": "code",
   "execution_count": 217,
   "metadata": {
    "collapsed": true
   },
   "outputs": [],
   "source": [
    "store_nbr_embeddings = pd.DataFrame(weights[3])\n",
    "store_nbr_embeddings.columns = ['store_nbr'+str(i) for i in range(len(store_nbr_embeddings.columns.values))]\n",
    "store_nbr_embeddings['store_nbr'] = les[3].inverse_transform(np.unique(X_train_dnn[..., [3]]))\n",
    "store_nbr_embeddings = store_nbr_embeddings.set_index('store_nbr')"
   ]
  },
  {
   "cell_type": "code",
   "execution_count": 218,
   "metadata": {
    "collapsed": true
   },
   "outputs": [],
   "source": [
    "store_city_embeddings = pd.DataFrame(weights[4])\n",
    "store_city_embeddings.columns = ['city'+str(i) for i in range(len(store_city_embeddings.columns.values))]\n",
    "store_city_embeddings['city'] = les[4].inverse_transform(np.unique(X_train_dnn[..., [4]]))\n",
    "store_city_embeddings = store_city_embeddings.set_index('city')"
   ]
  },
  {
   "cell_type": "code",
   "execution_count": 219,
   "metadata": {
    "collapsed": true
   },
   "outputs": [],
   "source": [
    "store_state_embeddings = pd.DataFrame(weights[5])\n",
    "store_state_embeddings.columns = ['state'+str(i) for i in range(len(store_state_embeddings.columns.values))]\n",
    "store_state_embeddings['state'] = les[5].inverse_transform(np.unique(X_train_dnn[..., [5]]))\n",
    "store_state_embeddings = store_state_embeddings.set_index('state')"
   ]
  },
  {
   "cell_type": "code",
   "execution_count": 220,
   "metadata": {
    "collapsed": true
   },
   "outputs": [],
   "source": [
    "store_type_embeddings = pd.DataFrame(weights[6])\n",
    "store_type_embeddings.columns = ['type'+str(i) for i in range(len(store_type_embeddings.columns.values))]\n",
    "store_type_embeddings['type'] = les[6].inverse_transform(np.unique(X_train_dnn[..., [6]]))\n",
    "store_type_embeddings = store_type_embeddings.set_index('type')"
   ]
  },
  {
   "cell_type": "code",
   "execution_count": 221,
   "metadata": {
    "collapsed": true
   },
   "outputs": [],
   "source": [
    "store_cluster_embeddings = pd.DataFrame(weights[7])\n",
    "store_cluster_embeddings.columns = ['cluster'+str(i) for i in range(len(store_cluster_embeddings.columns.values))]\n",
    "store_cluster_embeddings['cluster'] = les[7].inverse_transform(np.unique(X_train_dnn[..., [7]]))\n",
    "store_cluster_embeddings = store_cluster_embeddings.set_index('cluster')"
   ]
  },
  {
   "cell_type": "code",
   "execution_count": 222,
   "metadata": {
    "collapsed": true
   },
   "outputs": [],
   "source": [
    "dom_embeddings = pd.DataFrame(weights[8])\n",
    "dom_embeddings.columns = ['dom'+str(i) for i in range(len(dom_embeddings.columns.values))]\n",
    "dom_embeddings['dom'] = les[8].inverse_transform(np.unique(X_train_dnn[..., [8]]))\n",
    "dom_embeddings = dom_embeddings.set_index('dom')"
   ]
  },
  {
   "cell_type": "code",
   "execution_count": 223,
   "metadata": {
    "collapsed": true
   },
   "outputs": [],
   "source": [
    "dow_embeddings = pd.DataFrame(weights[9])\n",
    "dow_embeddings.columns = ['dow'+str(i) for i in range(len(dow_embeddings.columns.values))]\n",
    "dow_embeddings['dow'] = les[9].inverse_transform(np.unique(X_train_dnn[..., [9]]))\n",
    "dow_embeddings = dow_embeddings.set_index('dow')"
   ]
  },
  {
   "cell_type": "code",
   "execution_count": 224,
   "metadata": {
    "collapsed": true
   },
   "outputs": [],
   "source": [
    "dom_cols = dom_embeddings.columns.values\n",
    "dow_cols = dow_embeddings.columns.values"
   ]
  },
  {
   "cell_type": "markdown",
   "metadata": {},
   "source": [
    "## Recreate train with only 8 days"
   ]
  },
  {
   "cell_type": "code",
   "execution_count": 225,
   "metadata": {},
   "outputs": [
    {
     "name": "stdout",
     "output_type": "stream",
     "text": [
      "Preparing dataset...\n"
     ]
    }
   ],
   "source": [
    "print(\"Preparing dataset...\")\n",
    "num_days = 8\n",
    "t2017 = date(2017, 5, 31)\n",
    "X_l, y_l = [], []\n",
    "for i in range(num_days):\n",
    "    delta = timedelta(days=7 * i)\n",
    "    X_tmp, y_tmp = prepare_dataset(df_2017, promo_2017, t2017 + delta)\n",
    "\n",
    "    X_tmp2 = prepare_dataset(df_2017_item, promo_2017_item, t2017 + delta, is_train=False, name_prefix='item')\n",
    "    X_tmp2.index = df_2017_item.index\n",
    "    X_tmp2 = X_tmp2.reindex(df_2017.index.get_level_values(1)).reset_index(drop=True)\n",
    "\n",
    "    X_tmp3 = prepare_dataset(df_2017_store_class, df_2017_promo_store_class, t2017 + delta, is_train=False, name_prefix='store_class')\n",
    "    X_tmp3.index = df_2017_store_class.index\n",
    "    X_tmp3 = X_tmp3.reindex(df_2017_store_class_index).reset_index(drop=True)\n",
    "\n",
    "    X_tmp = pd.concat([X_tmp, X_tmp2, X_tmp3, items.reset_index(), stores.reset_index()], axis=1)\n",
    "    \n",
    "    for i in range(16):\n",
    "        X_tmp['dayofmonth_%s' % i] = np.repeat(((t2017+ delta) + timedelta(days=i)).day,X_tmp.shape[0])\n",
    "\n",
    "    X_l.append(X_tmp)\n",
    "    y_l.append(y_tmp)"
   ]
  },
  {
   "cell_type": "code",
   "execution_count": 226,
   "metadata": {
    "collapsed": true
   },
   "outputs": [],
   "source": [
    "X_train = pd.concat(X_l, axis=0)\n",
    "y_train = np.concatenate(y_l, axis=0)"
   ]
  },
  {
   "cell_type": "code",
   "execution_count": 227,
   "metadata": {
    "collapsed": true
   },
   "outputs": [],
   "source": [
    "X_train.loc[X_train['dayofmonth_0'] == 31, ['dayofmonth_0']] = 30\n",
    "X_train.loc[X_train['dayofmonth_12'] == 31, ['dayofmonth_12']] = 30"
   ]
  },
  {
   "cell_type": "code",
   "execution_count": 228,
   "metadata": {
    "collapsed": true
   },
   "outputs": [],
   "source": [
    "del X_l, y_l"
   ]
  },
  {
   "cell_type": "code",
   "execution_count": 229,
   "metadata": {},
   "outputs": [
    {
     "data": {
      "text/plain": [
       "83959"
      ]
     },
     "execution_count": 229,
     "metadata": {},
     "output_type": "execute_result"
    }
   ],
   "source": [
    "del df_2017_item, promo_2017_item, df_2017_store_class, df_2017_promo_store_class, df_2017_store_class_index\n",
    "gc.collect()"
   ]
  },
  {
   "cell_type": "code",
   "execution_count": 230,
   "metadata": {
    "collapsed": true
   },
   "outputs": [],
   "source": [
    "X_train_1 = X_train.join(item_nbr_embeddings, on = 'item_nbr', how = \"left\")\n",
    "X_train_1 = X_train_1.join(item_family_embeddings, on = 'family', how = \"left\")\n",
    "X_train_1 = X_train_1.join(item_class_embeddings, on = 'class', how = \"left\")\n",
    "X_train_1 = X_train_1.join(store_nbr_embeddings, on = 'store_nbr', how = \"left\")\n",
    "X_train_1 = X_train_1.join(store_city_embeddings, on = 'city', how = \"left\")\n",
    "X_train_1 = X_train_1.join(store_state_embeddings, on = 'state', how = \"left\")\n",
    "X_train_1 = X_train_1.join(store_type_embeddings, on = 'type', how = \"left\")\n",
    "X_train_1 = X_train_1.join(store_cluster_embeddings, on = 'cluster', how = \"left\")"
   ]
  },
  {
   "cell_type": "code",
   "execution_count": 231,
   "metadata": {
    "collapsed": true
   },
   "outputs": [],
   "source": [
    "for j in range(16):\n",
    "    dom_embeddings.columns = [i+(\"_%s\" % j) for i in dom_cols]\n",
    "    X_train_1 = X_train_1.join(dom_embeddings, on = ('dayofmonth_%s' % j), how = \"left\")"
   ]
  },
  {
   "cell_type": "code",
   "execution_count": 232,
   "metadata": {
    "collapsed": true
   },
   "outputs": [],
   "source": [
    "X_train = X_train_1.iloc[:,0:552]\n",
    "X_train_catemb = X_train_1.iloc[:,577:]"
   ]
  },
  {
   "cell_type": "code",
   "execution_count": 233,
   "metadata": {
    "collapsed": true
   },
   "outputs": [],
   "source": [
    "X_val_1 = X_val.join(item_nbr_embeddings, on = 'item_nbr', how = \"left\")\n",
    "X_val_1 = X_val_1.join(item_family_embeddings, on = 'family', how = \"left\")\n",
    "X_val_1 = X_val_1.join(item_class_embeddings, on = 'class', how = \"left\")\n",
    "X_val_1 = X_val_1.join(store_nbr_embeddings, on = 'store_nbr', how = \"left\")\n",
    "X_val_1 = X_val_1.join(store_city_embeddings, on = 'city', how = \"left\")\n",
    "X_val_1 = X_val_1.join(store_state_embeddings, on = 'state', how = \"left\")\n",
    "X_val_1 = X_val_1.join(store_type_embeddings, on = 'type', how = \"left\")\n",
    "X_val_1 = X_val_1.join(store_cluster_embeddings, on = 'cluster', how = \"left\")"
   ]
  },
  {
   "cell_type": "code",
   "execution_count": 234,
   "metadata": {
    "collapsed": true
   },
   "outputs": [],
   "source": [
    "for j in range(16):\n",
    "    dom_embeddings.columns = [i+(\"_%s\" % j) for i in dom_cols]\n",
    "    X_val_1 = X_val_1.join(dom_embeddings, on = ('dayofmonth_%s' % j), how = \"left\")"
   ]
  },
  {
   "cell_type": "code",
   "execution_count": 235,
   "metadata": {
    "collapsed": true
   },
   "outputs": [],
   "source": [
    "X_val = X_val_1.iloc[:,0:552]\n",
    "X_val_catemb = X_val_1.iloc[:,593:]"
   ]
  },
  {
   "cell_type": "code",
   "execution_count": 236,
   "metadata": {
    "collapsed": true
   },
   "outputs": [],
   "source": [
    "X_test_1 = X_test.join(item_nbr_embeddings, on = 'item_nbr', how = \"left\")\n",
    "X_test_1 = X_test_1.join(item_family_embeddings, on = 'family', how = \"left\")\n",
    "X_test_1 = X_test_1.join(item_class_embeddings, on = 'class', how = \"left\")\n",
    "X_test_1 = X_test_1.join(store_nbr_embeddings, on = 'store_nbr', how = \"left\")\n",
    "X_test_1 = X_test_1.join(store_city_embeddings, on = 'city', how = \"left\")\n",
    "X_test_1 = X_test_1.join(store_state_embeddings, on = 'state', how = \"left\")\n",
    "X_test_1 = X_test_1.join(store_type_embeddings, on = 'type', how = \"left\")\n",
    "X_test_1 = X_test_1.join(store_cluster_embeddings, on = 'cluster', how = \"left\")"
   ]
  },
  {
   "cell_type": "code",
   "execution_count": 237,
   "metadata": {
    "collapsed": true
   },
   "outputs": [],
   "source": [
    "for j in range(16):\n",
    "    dom_embeddings.columns = [i+(\"_%s\" % j) for i in dom_cols]\n",
    "    X_test_1 = X_test_1.join(dom_embeddings, on = ('dayofmonth_%s' % j), how = \"left\")\n",
    "    \n",
    "X_test = X_test_1.iloc[:,0:552]\n",
    "X_test_catemb = X_test_1.iloc[:,593:]"
   ]
  },
  {
   "cell_type": "code",
   "execution_count": 238,
   "metadata": {},
   "outputs": [
    {
     "data": {
      "text/plain": [
       "807"
      ]
     },
     "execution_count": 238,
     "metadata": {},
     "output_type": "execute_result"
    }
   ],
   "source": [
    "del X_train_1, X_val_1, X_test_1\n",
    "gc.collect()"
   ]
  },
  {
   "cell_type": "markdown",
   "metadata": {},
   "source": [
    "## Final Meta Model\n",
    "\n",
    "### read in the seq2seq predictions for train, validation and prediction"
   ]
  },
  {
   "cell_type": "code",
   "execution_count": 239,
   "metadata": {
    "collapsed": true
   },
   "outputs": [],
   "source": [
    "df_meta_tr = pd.read_csv(\n",
    "    \"seq_meta_tr_8.csv\",\n",
    ")\n",
    "\n",
    "df_meta_val = pd.read_csv(\n",
    "    \"seq_meta_val_8.csv\",\n",
    ")\n",
    "\n",
    "df_meta_test = pd.read_csv(\n",
    "    \"seq_meta_test_8.csv\",\n",
    ")"
   ]
  },
  {
   "cell_type": "code",
   "execution_count": 240,
   "metadata": {
    "collapsed": true
   },
   "outputs": [],
   "source": [
    "df_meta_tr.columns = [(\"y_%s\" % i) for  i in range(16)]"
   ]
  },
  {
   "cell_type": "code",
   "execution_count": 241,
   "metadata": {
    "collapsed": true
   },
   "outputs": [],
   "source": [
    "df_meta_val.columns = [(\"y_%s\" % i) for  i in range(16)]"
   ]
  },
  {
   "cell_type": "code",
   "execution_count": 242,
   "metadata": {
    "collapsed": true
   },
   "outputs": [],
   "source": [
    "df_meta_test.columns = [(\"y_%s\" % i) for  i in range(16)]"
   ]
  },
  {
   "cell_type": "code",
   "execution_count": null,
   "metadata": {},
   "outputs": [],
   "source": [
    "## Join seq2seq predictions to features of train, validation, & test"
   ]
  },
  {
   "cell_type": "code",
   "execution_count": 245,
   "metadata": {
    "collapsed": true
   },
   "outputs": [],
   "source": [
    "X_train = pd.concat([X_train.reset_index(drop=True), df_meta_tr], axis=1)"
   ]
  },
  {
   "cell_type": "code",
   "execution_count": 246,
   "metadata": {
    "collapsed": true
   },
   "outputs": [],
   "source": [
    "X_val = pd.concat([X_val.reset_index(drop=True), df_meta_val], axis=1)"
   ]
  },
  {
   "cell_type": "code",
   "execution_count": 247,
   "metadata": {
    "collapsed": true
   },
   "outputs": [],
   "source": [
    "X_test = pd.concat([X_test.reset_index(drop=True), df_meta_test], axis=1)"
   ]
  },
  {
   "cell_type": "code",
   "execution_count": null,
   "metadata": {},
   "outputs": [],
   "source": [
    "## Scaling the features"
   ]
  },
  {
   "cell_type": "code",
   "execution_count": 249,
   "metadata": {},
   "outputs": [
    {
     "data": {
      "text/plain": [
       "StandardScaler(copy=True, with_mean=True, with_std=True)"
      ]
     },
     "execution_count": 249,
     "metadata": {},
     "output_type": "execute_result"
    }
   ],
   "source": [
    "scaler = StandardScaler()\n",
    "scaler.fit(pd.concat([X_train, X_val, X_test]))"
   ]
  },
  {
   "cell_type": "code",
   "execution_count": 250,
   "metadata": {
    "collapsed": true
   },
   "outputs": [],
   "source": [
    "X_train[:] = scaler.transform(X_train)\n",
    "X_val[:] = scaler.transform(X_val)\n",
    "X_test[:] = scaler.transform(X_test)"
   ]
  },
  {
   "cell_type": "code",
   "execution_count": null,
   "metadata": {},
   "outputs": [],
   "source": [
    "## Join categorical embeddigns"
   ]
  },
  {
   "cell_type": "code",
   "execution_count": 251,
   "metadata": {
    "collapsed": true
   },
   "outputs": [],
   "source": [
    "X_train = pd.concat([X_train, X_train_catemb.reset_index(drop=True)], axis=1)"
   ]
  },
  {
   "cell_type": "code",
   "execution_count": 252,
   "metadata": {
    "collapsed": true
   },
   "outputs": [],
   "source": [
    "X_val = pd.concat([X_val, X_val_catemb.reset_index(drop=True)], axis=1)"
   ]
  },
  {
   "cell_type": "code",
   "execution_count": 253,
   "metadata": {
    "collapsed": true
   },
   "outputs": [],
   "source": [
    "X_test = pd.concat([X_test, X_test_catemb.reset_index(drop=True)], axis=1)"
   ]
  },
  {
   "cell_type": "code",
   "execution_count": null,
   "metadata": {},
   "outputs": [],
   "source": [
    "## define model architecture"
   ]
  },
  {
   "cell_type": "code",
   "execution_count": 261,
   "metadata": {
    "collapsed": true
   },
   "outputs": [],
   "source": [
    "def build_model():\n",
    "    model = Sequential()\n",
    "    model.add(LSTM(768, input_shape=(1,758)))\n",
    "    model.add(BatchNormalization())\n",
    "    model.add(Dropout(.2))\n",
    "\n",
    "    model.add(Dense(512))\n",
    "    model.add(PReLU())\n",
    "    model.add(BatchNormalization())\n",
    "    model.add(Dropout(.1))\n",
    "\n",
    "    model.add(Dense(256))\n",
    "    model.add(PReLU())\n",
    "    model.add(BatchNormalization())\n",
    "    model.add(Dropout(.1))\n",
    "\n",
    "    model.add(Dense(128))\n",
    "    model.add(PReLU())\n",
    "    model.add(BatchNormalization())\n",
    "    model.add(Dropout(.05))\n",
    "\n",
    "    model.add(Dense(64))\n",
    "    model.add(PReLU())\n",
    "    model.add(BatchNormalization())\n",
    "    model.add(Dropout(.05))\n",
    "\n",
    "    model.add(Dense(32))\n",
    "    model.add(PReLU())\n",
    "    model.add(BatchNormalization())\n",
    "    model.add(Dropout(.05))\n",
    "\n",
    "    model.add(Dense(16))\n",
    "    model.add(PReLU())\n",
    "    model.add(BatchNormalization())\n",
    "    model.add(Dropout(.05))\n",
    "\n",
    "    model.add(Dense(1))\n",
    "\n",
    "    return model"
   ]
  },
  {
   "cell_type": "code",
   "execution_count": null,
   "metadata": {},
   "outputs": [],
   "source": [
    "## Training and scoring each of the 16 models"
   ]
  },
  {
   "cell_type": "code",
   "execution_count": 262,
   "metadata": {},
   "outputs": [
    {
     "name": "stdout",
     "output_type": "stream",
     "text": [
      "==================================================\n",
      "Step 1\n",
      "==================================================\n",
      "Train on 1340120 samples, validate on 167515 samples\n",
      "Epoch 1/25\n",
      " - 173s - loss: 1.0363 - mean_squared_error: 0.9781 - val_loss: 0.6735 - val_mean_squared_error: 0.6735\n",
      "Epoch 2/25\n",
      " - 167s - loss: 0.5464 - mean_squared_error: 0.5175 - val_loss: 0.5019 - val_mean_squared_error: 0.5019\n",
      "Epoch 3/25\n",
      " - 167s - loss: 0.5070 - mean_squared_error: 0.4808 - val_loss: 0.4386 - val_mean_squared_error: 0.4386\n",
      "Epoch 4/25\n",
      " - 168s - loss: 0.4840 - mean_squared_error: 0.4593 - val_loss: 0.4417 - val_mean_squared_error: 0.4417\n",
      "Epoch 5/25\n",
      " - 168s - loss: 0.4672 - mean_squared_error: 0.4438 - val_loss: 0.4551 - val_mean_squared_error: 0.4551\n",
      "Epoch 6/25\n",
      " - 167s - loss: 0.4496 - mean_squared_error: 0.4275 - val_loss: 0.4505 - val_mean_squared_error: 0.4505\n",
      "Epoch 7/25\n",
      " - 173s - loss: 0.4322 - mean_squared_error: 0.4115 - val_loss: 0.4427 - val_mean_squared_error: 0.4427\n",
      "Epoch 8/25\n",
      " - 168s - loss: 0.4226 - mean_squared_error: 0.4028 - val_loss: 0.4253 - val_mean_squared_error: 0.4253\n",
      "Epoch 9/25\n",
      " - 168s - loss: 0.4116 - mean_squared_error: 0.3923 - val_loss: 0.4082 - val_mean_squared_error: 0.4082\n",
      "Epoch 10/25\n",
      " - 168s - loss: 0.4046 - mean_squared_error: 0.3857 - val_loss: 0.3870 - val_mean_squared_error: 0.3870\n",
      "Epoch 11/25\n",
      " - 167s - loss: 0.3976 - mean_squared_error: 0.3792 - val_loss: 0.3712 - val_mean_squared_error: 0.3712\n",
      "Epoch 12/25\n",
      " - 167s - loss: 0.3906 - mean_squared_error: 0.3725 - val_loss: 0.3591 - val_mean_squared_error: 0.3591\n",
      "Epoch 13/25\n",
      " - 168s - loss: 0.3862 - mean_squared_error: 0.3684 - val_loss: 0.3438 - val_mean_squared_error: 0.3438\n",
      "Epoch 14/25\n",
      " - 167s - loss: 0.3806 - mean_squared_error: 0.3629 - val_loss: 0.3355 - val_mean_squared_error: 0.3355\n",
      "Epoch 15/25\n",
      " - 168s - loss: 0.3778 - mean_squared_error: 0.3603 - val_loss: 0.3257 - val_mean_squared_error: 0.3257\n",
      "Epoch 16/25\n",
      " - 167s - loss: 0.3727 - mean_squared_error: 0.3553 - val_loss: 0.3175 - val_mean_squared_error: 0.3175\n",
      "Epoch 17/25\n",
      " - 168s - loss: 0.3685 - mean_squared_error: 0.3512 - val_loss: 0.3107 - val_mean_squared_error: 0.3107\n",
      "Epoch 18/25\n",
      " - 167s - loss: 0.3649 - mean_squared_error: 0.3479 - val_loss: 0.3091 - val_mean_squared_error: 0.3091\n",
      "Epoch 19/25\n",
      " - 167s - loss: 0.3612 - mean_squared_error: 0.3443 - val_loss: 0.3043 - val_mean_squared_error: 0.3043\n",
      "Epoch 20/25\n",
      " - 168s - loss: 0.3575 - mean_squared_error: 0.3407 - val_loss: 0.2999 - val_mean_squared_error: 0.2999\n",
      "Epoch 21/25\n",
      " - 168s - loss: 0.3552 - mean_squared_error: 0.3385 - val_loss: 0.2962 - val_mean_squared_error: 0.2962\n",
      "Epoch 22/25\n",
      " - 168s - loss: 0.3518 - mean_squared_error: 0.3353 - val_loss: 0.2942 - val_mean_squared_error: 0.2942\n",
      "Epoch 23/25\n",
      " - 168s - loss: 0.3492 - mean_squared_error: 0.3327 - val_loss: 0.2934 - val_mean_squared_error: 0.2934\n",
      "Epoch 24/25\n",
      " - 168s - loss: 0.3466 - mean_squared_error: 0.3302 - val_loss: 0.2921 - val_mean_squared_error: 0.2921\n",
      "Epoch 25/25\n",
      " - 168s - loss: 0.3446 - mean_squared_error: 0.3283 - val_loss: 0.2909 - val_mean_squared_error: 0.2909\n",
      "==================================================\n",
      "Step 2\n",
      "==================================================\n",
      "Train on 1340120 samples, validate on 167515 samples\n",
      "Epoch 1/25\n",
      " - 175s - loss: 0.7668 - mean_squared_error: 0.7250 - val_loss: 0.5235 - val_mean_squared_error: 0.5235\n",
      "Epoch 2/25\n",
      " - 170s - loss: 0.4836 - mean_squared_error: 0.4569 - val_loss: 0.4832 - val_mean_squared_error: 0.4832\n",
      "Epoch 3/25\n",
      " - 168s - loss: 0.4580 - mean_squared_error: 0.4327 - val_loss: 0.4988 - val_mean_squared_error: 0.4988\n",
      "Epoch 4/25\n",
      " - 167s - loss: 0.4405 - mean_squared_error: 0.4163 - val_loss: 0.5051 - val_mean_squared_error: 0.5051\n",
      "Epoch 5/25\n",
      " - 171s - loss: 0.4273 - mean_squared_error: 0.4038 - val_loss: 0.4877 - val_mean_squared_error: 0.4877\n",
      "Epoch 6/25\n",
      " - 168s - loss: 0.4176 - mean_squared_error: 0.3945 - val_loss: 0.4736 - val_mean_squared_error: 0.4736\n",
      "Epoch 7/25\n",
      " - 168s - loss: 0.4088 - mean_squared_error: 0.3864 - val_loss: 0.4551 - val_mean_squared_error: 0.4551\n",
      "Epoch 8/25\n",
      " - 168s - loss: 0.4018 - mean_squared_error: 0.3797 - val_loss: 0.4379 - val_mean_squared_error: 0.4379\n",
      "Epoch 9/25\n",
      " - 168s - loss: 0.3955 - mean_squared_error: 0.3737 - val_loss: 0.4212 - val_mean_squared_error: 0.4212\n",
      "Epoch 10/25\n",
      " - 170s - loss: 0.3906 - mean_squared_error: 0.3692 - val_loss: 0.4067 - val_mean_squared_error: 0.4067\n",
      "Epoch 11/25\n",
      " - 169s - loss: 0.3859 - mean_squared_error: 0.3647 - val_loss: 0.3909 - val_mean_squared_error: 0.3909\n",
      "Epoch 12/25\n",
      " - 168s - loss: 0.3812 - mean_squared_error: 0.3602 - val_loss: 0.3792 - val_mean_squared_error: 0.3792\n",
      "Epoch 13/25\n",
      " - 169s - loss: 0.3777 - mean_squared_error: 0.3569 - val_loss: 0.3669 - val_mean_squared_error: 0.3669\n",
      "Epoch 14/25\n",
      " - 169s - loss: 0.3738 - mean_squared_error: 0.3532 - val_loss: 0.3555 - val_mean_squared_error: 0.3555\n",
      "Epoch 15/25\n",
      " - 168s - loss: 0.3702 - mean_squared_error: 0.3498 - val_loss: 0.3456 - val_mean_squared_error: 0.3456\n",
      "Epoch 16/25\n",
      " - 170s - loss: 0.3673 - mean_squared_error: 0.3470 - val_loss: 0.3416 - val_mean_squared_error: 0.3416\n",
      "Epoch 17/25\n",
      " - 169s - loss: 0.3646 - mean_squared_error: 0.3445 - val_loss: 0.3364 - val_mean_squared_error: 0.3364\n",
      "Epoch 18/25\n",
      " - 169s - loss: 0.3621 - mean_squared_error: 0.3421 - val_loss: 0.3302 - val_mean_squared_error: 0.3302\n",
      "Epoch 19/25\n",
      " - 169s - loss: 0.3594 - mean_squared_error: 0.3395 - val_loss: 0.3270 - val_mean_squared_error: 0.3270\n",
      "Epoch 20/25\n",
      " - 168s - loss: 0.3571 - mean_squared_error: 0.3374 - val_loss: 0.3218 - val_mean_squared_error: 0.3218\n",
      "Epoch 21/25\n",
      " - 169s - loss: 0.3548 - mean_squared_error: 0.3351 - val_loss: 0.3194 - val_mean_squared_error: 0.3194\n",
      "Epoch 22/25\n",
      " - 169s - loss: 0.3529 - mean_squared_error: 0.3334 - val_loss: 0.3174 - val_mean_squared_error: 0.3174\n",
      "Epoch 23/25\n",
      " - 169s - loss: 0.3502 - mean_squared_error: 0.3308 - val_loss: 0.3149 - val_mean_squared_error: 0.3149\n",
      "Epoch 24/25\n",
      " - 169s - loss: 0.3492 - mean_squared_error: 0.3298 - val_loss: 0.3156 - val_mean_squared_error: 0.3156\n",
      "Epoch 25/25\n",
      " - 168s - loss: 0.3474 - mean_squared_error: 0.3282 - val_loss: 0.3149 - val_mean_squared_error: 0.3149\n",
      "==================================================\n",
      "Step 3\n",
      "==================================================\n",
      "Train on 1340120 samples, validate on 167515 samples\n",
      "Epoch 1/25\n",
      " - 176s - loss: 0.6958 - mean_squared_error: 0.6574 - val_loss: 0.4788 - val_mean_squared_error: 0.4788\n",
      "Epoch 2/25\n",
      " - 168s - loss: 0.4635 - mean_squared_error: 0.4383 - val_loss: 0.4827 - val_mean_squared_error: 0.4827\n",
      "Epoch 3/25\n",
      " - 168s - loss: 0.4347 - mean_squared_error: 0.4114 - val_loss: 0.5242 - val_mean_squared_error: 0.5242\n",
      "Epoch 4/25\n",
      " - 168s - loss: 0.4161 - mean_squared_error: 0.3942 - val_loss: 0.5368 - val_mean_squared_error: 0.5368\n",
      "Epoch 5/25\n",
      " - 168s - loss: 0.4034 - mean_squared_error: 0.3824 - val_loss: 0.5219 - val_mean_squared_error: 0.5219\n",
      "Epoch 6/25\n",
      " - 169s - loss: 0.3938 - mean_squared_error: 0.3735 - val_loss: 0.5075 - val_mean_squared_error: 0.5075\n",
      "Epoch 7/25\n",
      " - 168s - loss: 0.3863 - mean_squared_error: 0.3665 - val_loss: 0.4847 - val_mean_squared_error: 0.4847\n",
      "Epoch 8/25\n",
      " - 169s - loss: 0.3808 - mean_squared_error: 0.3614 - val_loss: 0.4636 - val_mean_squared_error: 0.4636\n",
      "Epoch 9/25\n",
      " - 168s - loss: 0.3755 - mean_squared_error: 0.3564 - val_loss: 0.4428 - val_mean_squared_error: 0.4428\n",
      "Epoch 10/25\n",
      " - 168s - loss: 0.3708 - mean_squared_error: 0.3519 - val_loss: 0.4261 - val_mean_squared_error: 0.4261\n",
      "Epoch 11/25\n",
      " - 168s - loss: 0.3674 - mean_squared_error: 0.3487 - val_loss: 0.4139 - val_mean_squared_error: 0.4139\n",
      "Epoch 12/25\n",
      " - 168s - loss: 0.3643 - mean_squared_error: 0.3457 - val_loss: 0.4018 - val_mean_squared_error: 0.4018\n",
      "Epoch 13/25\n",
      " - 168s - loss: 0.3614 - mean_squared_error: 0.3429 - val_loss: 0.3889 - val_mean_squared_error: 0.3889\n",
      "Epoch 14/25\n",
      " - 168s - loss: 0.3581 - mean_squared_error: 0.3398 - val_loss: 0.3801 - val_mean_squared_error: 0.3801\n",
      "Epoch 15/25\n",
      " - 168s - loss: 0.3556 - mean_squared_error: 0.3374 - val_loss: 0.3640 - val_mean_squared_error: 0.3640\n",
      "Epoch 16/25\n",
      " - 168s - loss: 0.3529 - mean_squared_error: 0.3348 - val_loss: 0.3619 - val_mean_squared_error: 0.3619\n",
      "Epoch 17/25\n",
      " - 168s - loss: 0.3505 - mean_squared_error: 0.3326 - val_loss: 0.3562 - val_mean_squared_error: 0.3562\n"
     ]
    },
    {
     "name": "stdout",
     "output_type": "stream",
     "text": [
      "Epoch 18/25\n",
      " - 168s - loss: 0.3481 - mean_squared_error: 0.3303 - val_loss: 0.3503 - val_mean_squared_error: 0.3503\n",
      "Epoch 19/25\n",
      " - 169s - loss: 0.3468 - mean_squared_error: 0.3291 - val_loss: 0.3417 - val_mean_squared_error: 0.3417\n",
      "Epoch 20/25\n",
      " - 169s - loss: 0.3447 - mean_squared_error: 0.3271 - val_loss: 0.3411 - val_mean_squared_error: 0.3411\n",
      "Epoch 21/25\n",
      " - 169s - loss: 0.3429 - mean_squared_error: 0.3254 - val_loss: 0.3387 - val_mean_squared_error: 0.3387\n",
      "Epoch 22/25\n",
      " - 169s - loss: 0.3414 - mean_squared_error: 0.3240 - val_loss: 0.3342 - val_mean_squared_error: 0.3342\n",
      "Epoch 23/25\n",
      " - 169s - loss: 0.3396 - mean_squared_error: 0.3222 - val_loss: 0.3325 - val_mean_squared_error: 0.3325\n",
      "Epoch 24/25\n",
      " - 168s - loss: 0.3381 - mean_squared_error: 0.3208 - val_loss: 0.3305 - val_mean_squared_error: 0.3305\n",
      "Epoch 25/25\n",
      " - 168s - loss: 0.3373 - mean_squared_error: 0.3201 - val_loss: 0.3331 - val_mean_squared_error: 0.3331\n",
      "==================================================\n",
      "Step 4\n",
      "==================================================\n",
      "Train on 1340120 samples, validate on 167515 samples\n",
      "Epoch 1/25\n",
      " - 175s - loss: 0.7685 - mean_squared_error: 0.7258 - val_loss: 0.4924 - val_mean_squared_error: 0.4924\n",
      "Epoch 2/25\n",
      " - 168s - loss: 0.5192 - mean_squared_error: 0.4902 - val_loss: 0.4655 - val_mean_squared_error: 0.4655\n",
      "Epoch 3/25\n",
      " - 169s - loss: 0.4902 - mean_squared_error: 0.4630 - val_loss: 0.5151 - val_mean_squared_error: 0.5151\n",
      "Epoch 4/25\n",
      " - 169s - loss: 0.4716 - mean_squared_error: 0.4455 - val_loss: 0.5221 - val_mean_squared_error: 0.5221\n",
      "Epoch 5/25\n",
      " - 170s - loss: 0.4563 - mean_squared_error: 0.4312 - val_loss: 0.5226 - val_mean_squared_error: 0.5226\n",
      "Epoch 6/25\n",
      " - 169s - loss: 0.4452 - mean_squared_error: 0.4208 - val_loss: 0.5061 - val_mean_squared_error: 0.5061\n",
      "Epoch 7/25\n",
      " - 168s - loss: 0.4353 - mean_squared_error: 0.4116 - val_loss: 0.4904 - val_mean_squared_error: 0.4904\n",
      "Epoch 8/25\n",
      " - 168s - loss: 0.4272 - mean_squared_error: 0.4039 - val_loss: 0.4747 - val_mean_squared_error: 0.4747\n",
      "Epoch 9/25\n",
      " - 167s - loss: 0.4203 - mean_squared_error: 0.3975 - val_loss: 0.4504 - val_mean_squared_error: 0.4504\n",
      "Epoch 10/25\n",
      " - 167s - loss: 0.4136 - mean_squared_error: 0.3913 - val_loss: 0.4291 - val_mean_squared_error: 0.4291\n",
      "Epoch 11/25\n",
      " - 167s - loss: 0.4079 - mean_squared_error: 0.3858 - val_loss: 0.4208 - val_mean_squared_error: 0.4208\n",
      "Epoch 12/25\n",
      " - 168s - loss: 0.4023 - mean_squared_error: 0.3805 - val_loss: 0.4078 - val_mean_squared_error: 0.4078\n",
      "Epoch 13/25\n",
      " - 168s - loss: 0.3982 - mean_squared_error: 0.3768 - val_loss: 0.3944 - val_mean_squared_error: 0.3944\n",
      "Epoch 14/25\n",
      " - 168s - loss: 0.3932 - mean_squared_error: 0.3721 - val_loss: 0.3810 - val_mean_squared_error: 0.3810\n",
      "Epoch 15/25\n",
      " - 168s - loss: 0.3891 - mean_squared_error: 0.3682 - val_loss: 0.3762 - val_mean_squared_error: 0.3762\n",
      "Epoch 16/25\n",
      " - 168s - loss: 0.3849 - mean_squared_error: 0.3642 - val_loss: 0.3662 - val_mean_squared_error: 0.3662\n",
      "Epoch 17/25\n",
      " - 168s - loss: 0.3819 - mean_squared_error: 0.3613 - val_loss: 0.3581 - val_mean_squared_error: 0.3581\n",
      "Epoch 18/25\n",
      " - 168s - loss: 0.3791 - mean_squared_error: 0.3588 - val_loss: 0.3536 - val_mean_squared_error: 0.3536\n",
      "Epoch 19/25\n",
      " - 167s - loss: 0.3757 - mean_squared_error: 0.3556 - val_loss: 0.3494 - val_mean_squared_error: 0.3494\n",
      "Epoch 20/25\n",
      " - 167s - loss: 0.3732 - mean_squared_error: 0.3532 - val_loss: 0.3474 - val_mean_squared_error: 0.3474\n",
      "Epoch 21/25\n",
      " - 168s - loss: 0.3702 - mean_squared_error: 0.3504 - val_loss: 0.3418 - val_mean_squared_error: 0.3418\n",
      "Epoch 22/25\n",
      " - 167s - loss: 0.3680 - mean_squared_error: 0.3483 - val_loss: 0.3433 - val_mean_squared_error: 0.3433\n",
      "Epoch 23/25\n",
      " - 167s - loss: 0.3654 - mean_squared_error: 0.3458 - val_loss: 0.3396 - val_mean_squared_error: 0.3396\n",
      "Epoch 24/25\n",
      " - 167s - loss: 0.3629 - mean_squared_error: 0.3434 - val_loss: 0.3390 - val_mean_squared_error: 0.3390\n",
      "Epoch 25/25\n",
      " - 167s - loss: 0.3614 - mean_squared_error: 0.3420 - val_loss: 0.3378 - val_mean_squared_error: 0.3378\n",
      "==================================================\n",
      "Step 5\n",
      "==================================================\n",
      "Train on 1340120 samples, validate on 167515 samples\n",
      "Epoch 1/25\n",
      " - 174s - loss: 0.8369 - mean_squared_error: 0.7903 - val_loss: 0.6686 - val_mean_squared_error: 0.6686\n",
      "Epoch 2/25\n",
      " - 168s - loss: 0.5325 - mean_squared_error: 0.5035 - val_loss: 0.5643 - val_mean_squared_error: 0.5643\n",
      "Epoch 3/25\n",
      " - 168s - loss: 0.4972 - mean_squared_error: 0.4702 - val_loss: 0.5361 - val_mean_squared_error: 0.5361\n",
      "Epoch 4/25\n",
      " - 168s - loss: 0.4762 - mean_squared_error: 0.4503 - val_loss: 0.5405 - val_mean_squared_error: 0.5405\n",
      "Epoch 5/25\n",
      " - 167s - loss: 0.4592 - mean_squared_error: 0.4344 - val_loss: 0.5293 - val_mean_squared_error: 0.5293\n",
      "Epoch 6/25\n",
      " - 167s - loss: 0.4470 - mean_squared_error: 0.4229 - val_loss: 0.5185 - val_mean_squared_error: 0.5185\n",
      "Epoch 7/25\n",
      " - 167s - loss: 0.4369 - mean_squared_error: 0.4134 - val_loss: 0.4968 - val_mean_squared_error: 0.4968\n",
      "Epoch 8/25\n",
      " - 168s - loss: 0.4294 - mean_squared_error: 0.4064 - val_loss: 0.4783 - val_mean_squared_error: 0.4783\n",
      "Epoch 9/25\n",
      " - 167s - loss: 0.4231 - mean_squared_error: 0.4005 - val_loss: 0.4601 - val_mean_squared_error: 0.4601\n",
      "Epoch 10/25\n",
      " - 167s - loss: 0.4162 - mean_squared_error: 0.3940 - val_loss: 0.4426 - val_mean_squared_error: 0.4426\n",
      "Epoch 11/25\n",
      " - 167s - loss: 0.4100 - mean_squared_error: 0.3881 - val_loss: 0.4281 - val_mean_squared_error: 0.4281\n",
      "Epoch 12/25\n",
      " - 168s - loss: 0.4054 - mean_squared_error: 0.3838 - val_loss: 0.4186 - val_mean_squared_error: 0.4186\n",
      "Epoch 13/25\n",
      " - 168s - loss: 0.4001 - mean_squared_error: 0.3788 - val_loss: 0.4008 - val_mean_squared_error: 0.4008\n",
      "Epoch 14/25\n",
      " - 168s - loss: 0.3961 - mean_squared_error: 0.3751 - val_loss: 0.3919 - val_mean_squared_error: 0.3919\n",
      "Epoch 15/25\n",
      " - 167s - loss: 0.3920 - mean_squared_error: 0.3712 - val_loss: 0.3809 - val_mean_squared_error: 0.3809\n",
      "Epoch 16/25\n",
      " - 168s - loss: 0.3882 - mean_squared_error: 0.3676 - val_loss: 0.3724 - val_mean_squared_error: 0.3724\n",
      "Epoch 17/25\n",
      " - 167s - loss: 0.3843 - mean_squared_error: 0.3639 - val_loss: 0.3673 - val_mean_squared_error: 0.3673\n",
      "Epoch 18/25\n",
      " - 168s - loss: 0.3819 - mean_squared_error: 0.3617 - val_loss: 0.3659 - val_mean_squared_error: 0.3659\n",
      "Epoch 19/25\n",
      " - 168s - loss: 0.3791 - mean_squared_error: 0.3591 - val_loss: 0.3551 - val_mean_squared_error: 0.3551\n",
      "Epoch 20/25\n",
      " - 168s - loss: 0.3764 - mean_squared_error: 0.3565 - val_loss: 0.3503 - val_mean_squared_error: 0.3503\n",
      "Epoch 21/25\n",
      " - 168s - loss: 0.3741 - mean_squared_error: 0.3543 - val_loss: 0.3404 - val_mean_squared_error: 0.3404\n",
      "Epoch 22/25\n",
      " - 167s - loss: 0.3712 - mean_squared_error: 0.3515 - val_loss: 0.3399 - val_mean_squared_error: 0.3399\n",
      "Epoch 23/25\n",
      " - 167s - loss: 0.3692 - mean_squared_error: 0.3497 - val_loss: 0.3355 - val_mean_squared_error: 0.3355\n",
      "Epoch 24/25\n",
      " - 167s - loss: 0.3672 - mean_squared_error: 0.3479 - val_loss: 0.3340 - val_mean_squared_error: 0.3340\n",
      "Epoch 25/25\n",
      " - 168s - loss: 0.3654 - mean_squared_error: 0.3461 - val_loss: 0.3322 - val_mean_squared_error: 0.3322\n",
      "==================================================\n",
      "Step 6\n",
      "==================================================\n",
      "Train on 1340120 samples, validate on 167515 samples\n",
      "Epoch 1/25\n",
      " - 178s - loss: 0.8131 - mean_squared_error: 0.7667 - val_loss: 0.5074 - val_mean_squared_error: 0.5074\n",
      "Epoch 2/25\n",
      " - 169s - loss: 0.5307 - mean_squared_error: 0.4995 - val_loss: 0.4624 - val_mean_squared_error: 0.4624\n",
      "Epoch 3/25\n",
      " - 167s - loss: 0.5025 - mean_squared_error: 0.4734 - val_loss: 0.4957 - val_mean_squared_error: 0.4957\n",
      "Epoch 4/25\n",
      " - 167s - loss: 0.4845 - mean_squared_error: 0.4567 - val_loss: 0.5189 - val_mean_squared_error: 0.5189\n",
      "Epoch 5/25\n",
      " - 167s - loss: 0.4691 - mean_squared_error: 0.4422 - val_loss: 0.5203 - val_mean_squared_error: 0.5203\n",
      "Epoch 6/25\n",
      " - 167s - loss: 0.4574 - mean_squared_error: 0.4313 - val_loss: 0.5076 - val_mean_squared_error: 0.5076\n",
      "Epoch 7/25\n",
      " - 167s - loss: 0.4481 - mean_squared_error: 0.4227 - val_loss: 0.4887 - val_mean_squared_error: 0.4887\n",
      "Epoch 8/25\n",
      " - 167s - loss: 0.4400 - mean_squared_error: 0.4152 - val_loss: 0.4725 - val_mean_squared_error: 0.4725\n",
      "Epoch 9/25\n",
      " - 167s - loss: 0.4341 - mean_squared_error: 0.4096 - val_loss: 0.4636 - val_mean_squared_error: 0.4636\n"
     ]
    },
    {
     "name": "stdout",
     "output_type": "stream",
     "text": [
      "Epoch 10/25\n",
      " - 167s - loss: 0.4275 - mean_squared_error: 0.4035 - val_loss: 0.4421 - val_mean_squared_error: 0.4421\n",
      "Epoch 11/25\n",
      " - 167s - loss: 0.4222 - mean_squared_error: 0.3986 - val_loss: 0.4262 - val_mean_squared_error: 0.4262\n",
      "Epoch 12/25\n",
      " - 167s - loss: 0.4171 - mean_squared_error: 0.3937 - val_loss: 0.4144 - val_mean_squared_error: 0.4144\n",
      "Epoch 13/25\n",
      " - 167s - loss: 0.4118 - mean_squared_error: 0.3888 - val_loss: 0.4060 - val_mean_squared_error: 0.4060\n",
      "Epoch 14/25\n",
      " - 167s - loss: 0.4077 - mean_squared_error: 0.3849 - val_loss: 0.3955 - val_mean_squared_error: 0.3955\n",
      "Epoch 15/25\n",
      " - 167s - loss: 0.4042 - mean_squared_error: 0.3817 - val_loss: 0.3825 - val_mean_squared_error: 0.3825\n",
      "Epoch 16/25\n",
      " - 167s - loss: 0.4006 - mean_squared_error: 0.3783 - val_loss: 0.3744 - val_mean_squared_error: 0.3744\n",
      "Epoch 17/25\n",
      " - 167s - loss: 0.3967 - mean_squared_error: 0.3745 - val_loss: 0.3647 - val_mean_squared_error: 0.3647\n",
      "Epoch 18/25\n",
      " - 167s - loss: 0.3934 - mean_squared_error: 0.3714 - val_loss: 0.3617 - val_mean_squared_error: 0.3617\n",
      "Epoch 19/25\n",
      " - 168s - loss: 0.3913 - mean_squared_error: 0.3695 - val_loss: 0.3556 - val_mean_squared_error: 0.3556\n",
      "Epoch 20/25\n",
      " - 167s - loss: 0.3883 - mean_squared_error: 0.3667 - val_loss: 0.3517 - val_mean_squared_error: 0.3517\n",
      "Epoch 21/25\n",
      " - 167s - loss: 0.3859 - mean_squared_error: 0.3643 - val_loss: 0.3504 - val_mean_squared_error: 0.3504\n",
      "Epoch 22/25\n",
      " - 167s - loss: 0.3824 - mean_squared_error: 0.3611 - val_loss: 0.3446 - val_mean_squared_error: 0.3446\n",
      "Epoch 23/25\n",
      " - 167s - loss: 0.3809 - mean_squared_error: 0.3596 - val_loss: 0.3443 - val_mean_squared_error: 0.3443\n",
      "Epoch 24/25\n",
      " - 167s - loss: 0.3790 - mean_squared_error: 0.3578 - val_loss: 0.3412 - val_mean_squared_error: 0.3412\n",
      "Epoch 25/25\n",
      " - 167s - loss: 0.3769 - mean_squared_error: 0.3558 - val_loss: 0.3421 - val_mean_squared_error: 0.3421\n",
      "==================================================\n",
      "Step 7\n",
      "==================================================\n",
      "Train on 1340120 samples, validate on 167515 samples\n",
      "Epoch 1/25\n",
      " - 174s - loss: 0.9958 - mean_squared_error: 0.9436 - val_loss: 0.5612 - val_mean_squared_error: 0.5612\n",
      "Epoch 2/25\n",
      " - 167s - loss: 0.5565 - mean_squared_error: 0.5264 - val_loss: 0.5467 - val_mean_squared_error: 0.5467\n",
      "Epoch 3/25\n",
      " - 167s - loss: 0.5239 - mean_squared_error: 0.4956 - val_loss: 0.6065 - val_mean_squared_error: 0.6065\n",
      "Epoch 4/25\n",
      " - 167s - loss: 0.5056 - mean_squared_error: 0.4785 - val_loss: 0.6496 - val_mean_squared_error: 0.6496\n",
      "Epoch 5/25\n",
      " - 167s - loss: 0.4889 - mean_squared_error: 0.4628 - val_loss: 0.6616 - val_mean_squared_error: 0.6616\n",
      "Epoch 6/25\n",
      " - 167s - loss: 0.4751 - mean_squared_error: 0.4500 - val_loss: 0.6464 - val_mean_squared_error: 0.6464\n",
      "Epoch 7/25\n",
      " - 167s - loss: 0.4640 - mean_squared_error: 0.4397 - val_loss: 0.6296 - val_mean_squared_error: 0.6296\n",
      "Epoch 8/25\n",
      " - 167s - loss: 0.4551 - mean_squared_error: 0.4314 - val_loss: 0.5986 - val_mean_squared_error: 0.5986\n",
      "Epoch 9/25\n",
      " - 167s - loss: 0.4467 - mean_squared_error: 0.4236 - val_loss: 0.5738 - val_mean_squared_error: 0.5738\n",
      "Epoch 10/25\n",
      " - 167s - loss: 0.4395 - mean_squared_error: 0.4169 - val_loss: 0.5447 - val_mean_squared_error: 0.5447\n",
      "Epoch 11/25\n",
      " - 167s - loss: 0.4340 - mean_squared_error: 0.4117 - val_loss: 0.5093 - val_mean_squared_error: 0.5093\n",
      "Epoch 12/25\n",
      " - 167s - loss: 0.4274 - mean_squared_error: 0.4055 - val_loss: 0.4945 - val_mean_squared_error: 0.4945\n",
      "Epoch 13/25\n",
      " - 167s - loss: 0.4223 - mean_squared_error: 0.4007 - val_loss: 0.4842 - val_mean_squared_error: 0.4842\n",
      "Epoch 14/25\n",
      " - 167s - loss: 0.4183 - mean_squared_error: 0.3968 - val_loss: 0.4629 - val_mean_squared_error: 0.4629\n",
      "Epoch 15/25\n",
      " - 167s - loss: 0.4134 - mean_squared_error: 0.3923 - val_loss: 0.4452 - val_mean_squared_error: 0.4452\n",
      "Epoch 16/25\n",
      " - 167s - loss: 0.4097 - mean_squared_error: 0.3888 - val_loss: 0.4313 - val_mean_squared_error: 0.4313\n",
      "Epoch 17/25\n",
      " - 167s - loss: 0.4059 - mean_squared_error: 0.3851 - val_loss: 0.4223 - val_mean_squared_error: 0.4223\n",
      "Epoch 18/25\n",
      " - 167s - loss: 0.4014 - mean_squared_error: 0.3808 - val_loss: 0.4154 - val_mean_squared_error: 0.4154\n",
      "Epoch 19/25\n",
      " - 167s - loss: 0.3986 - mean_squared_error: 0.3782 - val_loss: 0.4058 - val_mean_squared_error: 0.4058\n",
      "Epoch 20/25\n",
      " - 167s - loss: 0.3960 - mean_squared_error: 0.3757 - val_loss: 0.3994 - val_mean_squared_error: 0.3994\n",
      "Epoch 21/25\n",
      " - 167s - loss: 0.3927 - mean_squared_error: 0.3725 - val_loss: 0.3918 - val_mean_squared_error: 0.3918\n",
      "Epoch 22/25\n",
      " - 167s - loss: 0.3890 - mean_squared_error: 0.3689 - val_loss: 0.3938 - val_mean_squared_error: 0.3938\n",
      "Epoch 23/25\n",
      " - 167s - loss: 0.3866 - mean_squared_error: 0.3667 - val_loss: 0.3861 - val_mean_squared_error: 0.3861\n",
      "Epoch 24/25\n",
      " - 167s - loss: 0.3840 - mean_squared_error: 0.3641 - val_loss: 0.3811 - val_mean_squared_error: 0.3811\n",
      "Epoch 25/25\n",
      " - 167s - loss: 0.3813 - mean_squared_error: 0.3616 - val_loss: 0.3830 - val_mean_squared_error: 0.3830\n",
      "==================================================\n",
      "Step 8\n",
      "==================================================\n",
      "Train on 1340120 samples, validate on 167515 samples\n",
      "Epoch 1/25\n",
      " - 175s - loss: 0.9970 - mean_squared_error: 0.9453 - val_loss: 0.7661 - val_mean_squared_error: 0.7661\n",
      "Epoch 2/25\n",
      " - 167s - loss: 0.5549 - mean_squared_error: 0.5259 - val_loss: 0.6695 - val_mean_squared_error: 0.6695\n",
      "Epoch 3/25\n",
      " - 167s - loss: 0.5188 - mean_squared_error: 0.4918 - val_loss: 0.6634 - val_mean_squared_error: 0.6634\n",
      "Epoch 4/25\n",
      " - 167s - loss: 0.4950 - mean_squared_error: 0.4697 - val_loss: 0.6806 - val_mean_squared_error: 0.6806\n",
      "Epoch 5/25\n",
      " - 167s - loss: 0.4744 - mean_squared_error: 0.4507 - val_loss: 0.6826 - val_mean_squared_error: 0.6826\n",
      "Epoch 6/25\n",
      " - 167s - loss: 0.4558 - mean_squared_error: 0.4336 - val_loss: 0.6466 - val_mean_squared_error: 0.6466\n",
      "Epoch 7/25\n",
      " - 167s - loss: 0.4422 - mean_squared_error: 0.4210 - val_loss: 0.6099 - val_mean_squared_error: 0.6099\n",
      "Epoch 8/25\n",
      " - 167s - loss: 0.4318 - mean_squared_error: 0.4113 - val_loss: 0.5689 - val_mean_squared_error: 0.5689\n",
      "Epoch 9/25\n",
      " - 167s - loss: 0.4235 - mean_squared_error: 0.4034 - val_loss: 0.5351 - val_mean_squared_error: 0.5351\n",
      "Epoch 10/25\n",
      " - 167s - loss: 0.4161 - mean_squared_error: 0.3964 - val_loss: 0.5140 - val_mean_squared_error: 0.5140\n",
      "Epoch 11/25\n",
      " - 167s - loss: 0.4096 - mean_squared_error: 0.3902 - val_loss: 0.4912 - val_mean_squared_error: 0.4912\n",
      "Epoch 12/25\n",
      " - 168s - loss: 0.4040 - mean_squared_error: 0.3849 - val_loss: 0.4673 - val_mean_squared_error: 0.4673\n",
      "Epoch 13/25\n",
      " - 168s - loss: 0.3997 - mean_squared_error: 0.3808 - val_loss: 0.4489 - val_mean_squared_error: 0.4489\n",
      "Epoch 14/25\n",
      " - 167s - loss: 0.3939 - mean_squared_error: 0.3753 - val_loss: 0.4296 - val_mean_squared_error: 0.4296\n",
      "Epoch 15/25\n",
      " - 167s - loss: 0.3897 - mean_squared_error: 0.3713 - val_loss: 0.4214 - val_mean_squared_error: 0.4214\n",
      "Epoch 16/25\n",
      " - 167s - loss: 0.3853 - mean_squared_error: 0.3671 - val_loss: 0.4078 - val_mean_squared_error: 0.4078\n",
      "Epoch 17/25\n",
      " - 167s - loss: 0.3821 - mean_squared_error: 0.3640 - val_loss: 0.3969 - val_mean_squared_error: 0.3969\n",
      "Epoch 18/25\n",
      " - 167s - loss: 0.3783 - mean_squared_error: 0.3605 - val_loss: 0.3959 - val_mean_squared_error: 0.3959\n",
      "Epoch 19/25\n",
      " - 167s - loss: 0.3756 - mean_squared_error: 0.3579 - val_loss: 0.3742 - val_mean_squared_error: 0.3742\n",
      "Epoch 20/25\n",
      " - 167s - loss: 0.3720 - mean_squared_error: 0.3544 - val_loss: 0.3706 - val_mean_squared_error: 0.3706\n",
      "Epoch 21/25\n",
      " - 167s - loss: 0.3691 - mean_squared_error: 0.3516 - val_loss: 0.3681 - val_mean_squared_error: 0.3681\n",
      "Epoch 22/25\n",
      " - 167s - loss: 0.3666 - mean_squared_error: 0.3494 - val_loss: 0.3619 - val_mean_squared_error: 0.3619\n",
      "Epoch 23/25\n",
      " - 167s - loss: 0.3634 - mean_squared_error: 0.3462 - val_loss: 0.3578 - val_mean_squared_error: 0.3578\n",
      "Epoch 24/25\n",
      " - 167s - loss: 0.3614 - mean_squared_error: 0.3444 - val_loss: 0.3532 - val_mean_squared_error: 0.3532\n",
      "Epoch 25/25\n",
      " - 167s - loss: 0.3588 - mean_squared_error: 0.3419 - val_loss: 0.3472 - val_mean_squared_error: 0.3472\n",
      "==================================================\n",
      "Step 9\n",
      "==================================================\n",
      "Train on 1340120 samples, validate on 167515 samples\n",
      "Epoch 1/25\n",
      " - 174s - loss: 0.8291 - mean_squared_error: 0.7835 - val_loss: 0.6454 - val_mean_squared_error: 0.6454\n"
     ]
    },
    {
     "name": "stdout",
     "output_type": "stream",
     "text": [
      "Epoch 2/25\n",
      " - 167s - loss: 0.5469 - mean_squared_error: 0.5162 - val_loss: 0.5460 - val_mean_squared_error: 0.5460\n",
      "Epoch 3/25\n",
      " - 168s - loss: 0.5159 - mean_squared_error: 0.4870 - val_loss: 0.5371 - val_mean_squared_error: 0.5371\n",
      "Epoch 4/25\n",
      " - 167s - loss: 0.4950 - mean_squared_error: 0.4676 - val_loss: 0.5355 - val_mean_squared_error: 0.5355\n",
      "Epoch 5/25\n",
      " - 167s - loss: 0.4782 - mean_squared_error: 0.4518 - val_loss: 0.5215 - val_mean_squared_error: 0.5215\n",
      "Epoch 6/25\n",
      " - 168s - loss: 0.4656 - mean_squared_error: 0.4400 - val_loss: 0.5003 - val_mean_squared_error: 0.5003\n",
      "Epoch 7/25\n",
      " - 168s - loss: 0.4542 - mean_squared_error: 0.4294 - val_loss: 0.4892 - val_mean_squared_error: 0.4892\n",
      "Epoch 8/25\n",
      " - 167s - loss: 0.4447 - mean_squared_error: 0.4205 - val_loss: 0.4696 - val_mean_squared_error: 0.4696\n",
      "Epoch 9/25\n",
      " - 167s - loss: 0.4369 - mean_squared_error: 0.4132 - val_loss: 0.4562 - val_mean_squared_error: 0.4562\n",
      "Epoch 10/25\n",
      " - 168s - loss: 0.4292 - mean_squared_error: 0.4061 - val_loss: 0.4378 - val_mean_squared_error: 0.4378\n",
      "Epoch 11/25\n",
      " - 167s - loss: 0.4227 - mean_squared_error: 0.3999 - val_loss: 0.4177 - val_mean_squared_error: 0.4177\n",
      "Epoch 12/25\n",
      " - 167s - loss: 0.4164 - mean_squared_error: 0.3940 - val_loss: 0.4093 - val_mean_squared_error: 0.4093\n",
      "Epoch 13/25\n",
      " - 168s - loss: 0.4102 - mean_squared_error: 0.3882 - val_loss: 0.4010 - val_mean_squared_error: 0.4010\n",
      "Epoch 14/25\n",
      " - 167s - loss: 0.4047 - mean_squared_error: 0.3830 - val_loss: 0.3870 - val_mean_squared_error: 0.3870\n",
      "Epoch 15/25\n",
      " - 167s - loss: 0.3998 - mean_squared_error: 0.3784 - val_loss: 0.3811 - val_mean_squared_error: 0.3811\n",
      "Epoch 16/25\n",
      " - 167s - loss: 0.3962 - mean_squared_error: 0.3749 - val_loss: 0.3717 - val_mean_squared_error: 0.3717\n",
      "Epoch 17/25\n",
      " - 167s - loss: 0.3911 - mean_squared_error: 0.3701 - val_loss: 0.3647 - val_mean_squared_error: 0.3647\n",
      "Epoch 18/25\n",
      " - 168s - loss: 0.3877 - mean_squared_error: 0.3670 - val_loss: 0.3578 - val_mean_squared_error: 0.3578\n",
      "Epoch 19/25\n",
      " - 168s - loss: 0.3840 - mean_squared_error: 0.3634 - val_loss: 0.3523 - val_mean_squared_error: 0.3523\n",
      "Epoch 20/25\n",
      " - 167s - loss: 0.3809 - mean_squared_error: 0.3605 - val_loss: 0.3544 - val_mean_squared_error: 0.3544\n",
      "Epoch 21/25\n",
      " - 167s - loss: 0.3782 - mean_squared_error: 0.3580 - val_loss: 0.3475 - val_mean_squared_error: 0.3475\n",
      "Epoch 22/25\n",
      " - 167s - loss: 0.3748 - mean_squared_error: 0.3547 - val_loss: 0.3452 - val_mean_squared_error: 0.3452\n",
      "Epoch 23/25\n",
      " - 167s - loss: 0.3718 - mean_squared_error: 0.3518 - val_loss: 0.3464 - val_mean_squared_error: 0.3464\n",
      "Epoch 24/25\n",
      " - 167s - loss: 0.3696 - mean_squared_error: 0.3498 - val_loss: 0.3454 - val_mean_squared_error: 0.3454\n",
      "Epoch 25/25\n",
      " - 167s - loss: 0.3678 - mean_squared_error: 0.3480 - val_loss: 0.3384 - val_mean_squared_error: 0.3384\n",
      "==================================================\n",
      "Step 10\n",
      "==================================================\n",
      "Train on 1340120 samples, validate on 167515 samples\n",
      "Epoch 1/25\n",
      " - 175s - loss: 0.9029 - mean_squared_error: 0.8503 - val_loss: 0.5657 - val_mean_squared_error: 0.5657\n",
      "Epoch 2/25\n",
      " - 167s - loss: 0.5530 - mean_squared_error: 0.5225 - val_loss: 0.5157 - val_mean_squared_error: 0.5157\n",
      "Epoch 3/25\n",
      " - 167s - loss: 0.5167 - mean_squared_error: 0.4886 - val_loss: 0.5387 - val_mean_squared_error: 0.5387\n",
      "Epoch 4/25\n",
      " - 167s - loss: 0.4937 - mean_squared_error: 0.4673 - val_loss: 0.5677 - val_mean_squared_error: 0.5677\n",
      "Epoch 5/25\n",
      " - 167s - loss: 0.4755 - mean_squared_error: 0.4508 - val_loss: 0.5716 - val_mean_squared_error: 0.5716\n",
      "Epoch 6/25\n",
      " - 167s - loss: 0.4597 - mean_squared_error: 0.4361 - val_loss: 0.5626 - val_mean_squared_error: 0.5626\n",
      "Epoch 7/25\n",
      " - 168s - loss: 0.4461 - mean_squared_error: 0.4236 - val_loss: 0.5489 - val_mean_squared_error: 0.5489\n",
      "Epoch 8/25\n",
      " - 167s - loss: 0.4366 - mean_squared_error: 0.4148 - val_loss: 0.5160 - val_mean_squared_error: 0.5160\n",
      "Epoch 9/25\n",
      " - 168s - loss: 0.4280 - mean_squared_error: 0.4068 - val_loss: 0.4843 - val_mean_squared_error: 0.4843\n",
      "Epoch 10/25\n",
      " - 167s - loss: 0.4210 - mean_squared_error: 0.4003 - val_loss: 0.4606 - val_mean_squared_error: 0.4606\n",
      "Epoch 11/25\n",
      " - 167s - loss: 0.4150 - mean_squared_error: 0.3947 - val_loss: 0.4456 - val_mean_squared_error: 0.4456\n",
      "Epoch 12/25\n",
      " - 167s - loss: 0.4097 - mean_squared_error: 0.3896 - val_loss: 0.4268 - val_mean_squared_error: 0.4268\n",
      "Epoch 13/25\n",
      " - 168s - loss: 0.4041 - mean_squared_error: 0.3844 - val_loss: 0.4071 - val_mean_squared_error: 0.4071\n",
      "Epoch 14/25\n",
      " - 167s - loss: 0.3995 - mean_squared_error: 0.3800 - val_loss: 0.3975 - val_mean_squared_error: 0.3975\n",
      "Epoch 15/25\n",
      " - 167s - loss: 0.3954 - mean_squared_error: 0.3761 - val_loss: 0.3823 - val_mean_squared_error: 0.3823\n",
      "Epoch 16/25\n",
      " - 167s - loss: 0.3916 - mean_squared_error: 0.3726 - val_loss: 0.3700 - val_mean_squared_error: 0.3700\n",
      "Epoch 17/25\n",
      " - 167s - loss: 0.3883 - mean_squared_error: 0.3694 - val_loss: 0.3609 - val_mean_squared_error: 0.3609\n",
      "Epoch 18/25\n",
      " - 167s - loss: 0.3842 - mean_squared_error: 0.3655 - val_loss: 0.3551 - val_mean_squared_error: 0.3551\n",
      "Epoch 19/25\n",
      " - 167s - loss: 0.3820 - mean_squared_error: 0.3633 - val_loss: 0.3544 - val_mean_squared_error: 0.3544\n",
      "Epoch 20/25\n",
      " - 167s - loss: 0.3783 - mean_squared_error: 0.3597 - val_loss: 0.3438 - val_mean_squared_error: 0.3438\n",
      "Epoch 21/25\n",
      " - 167s - loss: 0.3758 - mean_squared_error: 0.3574 - val_loss: 0.3432 - val_mean_squared_error: 0.3432\n",
      "Epoch 22/25\n",
      " - 167s - loss: 0.3730 - mean_squared_error: 0.3547 - val_loss: 0.3385 - val_mean_squared_error: 0.3385\n",
      "Epoch 23/25\n",
      " - 167s - loss: 0.3706 - mean_squared_error: 0.3524 - val_loss: 0.3359 - val_mean_squared_error: 0.3359\n",
      "Epoch 24/25\n",
      " - 167s - loss: 0.3683 - mean_squared_error: 0.3501 - val_loss: 0.3360 - val_mean_squared_error: 0.3360\n",
      "Epoch 25/25\n",
      " - 167s - loss: 0.3657 - mean_squared_error: 0.3476 - val_loss: 0.3326 - val_mean_squared_error: 0.3326\n",
      "==================================================\n",
      "Step 11\n",
      "==================================================\n",
      "Train on 1340120 samples, validate on 167515 samples\n",
      "Epoch 1/25\n",
      " - 175s - loss: 0.7165 - mean_squared_error: 0.6792 - val_loss: 0.5322 - val_mean_squared_error: 0.5322\n",
      "Epoch 2/25\n",
      " - 167s - loss: 0.5236 - mean_squared_error: 0.4967 - val_loss: 0.4882 - val_mean_squared_error: 0.4882\n",
      "Epoch 3/25\n",
      " - 167s - loss: 0.4963 - mean_squared_error: 0.4708 - val_loss: 0.5342 - val_mean_squared_error: 0.5342\n",
      "Epoch 4/25\n",
      " - 167s - loss: 0.4781 - mean_squared_error: 0.4535 - val_loss: 0.5585 - val_mean_squared_error: 0.5585\n",
      "Epoch 5/25\n",
      " - 168s - loss: 0.4628 - mean_squared_error: 0.4390 - val_loss: 0.5666 - val_mean_squared_error: 0.5666\n",
      "Epoch 6/25\n",
      " - 167s - loss: 0.4512 - mean_squared_error: 0.4281 - val_loss: 0.5398 - val_mean_squared_error: 0.5398\n",
      "Epoch 7/25\n",
      " - 168s - loss: 0.4418 - mean_squared_error: 0.4192 - val_loss: 0.5258 - val_mean_squared_error: 0.5258\n",
      "Epoch 8/25\n",
      " - 167s - loss: 0.4337 - mean_squared_error: 0.4115 - val_loss: 0.5046 - val_mean_squared_error: 0.5046\n",
      "Epoch 9/25\n",
      " - 167s - loss: 0.4268 - mean_squared_error: 0.4049 - val_loss: 0.4804 - val_mean_squared_error: 0.4804\n",
      "Epoch 10/25\n",
      " - 167s - loss: 0.4201 - mean_squared_error: 0.3985 - val_loss: 0.4651 - val_mean_squared_error: 0.4651\n",
      "Epoch 11/25\n",
      " - 167s - loss: 0.4143 - mean_squared_error: 0.3930 - val_loss: 0.4499 - val_mean_squared_error: 0.4499\n",
      "Epoch 12/25\n",
      " - 167s - loss: 0.4089 - mean_squared_error: 0.3880 - val_loss: 0.4343 - val_mean_squared_error: 0.4343\n",
      "Epoch 13/25\n",
      " - 167s - loss: 0.4044 - mean_squared_error: 0.3836 - val_loss: 0.4175 - val_mean_squared_error: 0.4175\n",
      "Epoch 14/25\n",
      " - 167s - loss: 0.4004 - mean_squared_error: 0.3798 - val_loss: 0.3990 - val_mean_squared_error: 0.3990\n",
      "Epoch 15/25\n",
      " - 167s - loss: 0.3959 - mean_squared_error: 0.3755 - val_loss: 0.3848 - val_mean_squared_error: 0.3848\n",
      "Epoch 16/25\n",
      " - 167s - loss: 0.3920 - mean_squared_error: 0.3717 - val_loss: 0.3800 - val_mean_squared_error: 0.3800\n",
      "Epoch 17/25\n",
      " - 167s - loss: 0.3889 - mean_squared_error: 0.3688 - val_loss: 0.3733 - val_mean_squared_error: 0.3733\n",
      "Epoch 18/25\n",
      " - 167s - loss: 0.3857 - mean_squared_error: 0.3657 - val_loss: 0.3696 - val_mean_squared_error: 0.3696\n",
      "Epoch 19/25\n",
      " - 167s - loss: 0.3823 - mean_squared_error: 0.3624 - val_loss: 0.3579 - val_mean_squared_error: 0.3579\n",
      "Epoch 20/25\n"
     ]
    },
    {
     "name": "stdout",
     "output_type": "stream",
     "text": [
      " - 167s - loss: 0.3795 - mean_squared_error: 0.3598 - val_loss: 0.3499 - val_mean_squared_error: 0.3499\n",
      "Epoch 21/25\n",
      " - 168s - loss: 0.3772 - mean_squared_error: 0.3576 - val_loss: 0.3501 - val_mean_squared_error: 0.3501\n",
      "Epoch 22/25\n",
      " - 167s - loss: 0.3754 - mean_squared_error: 0.3558 - val_loss: 0.3446 - val_mean_squared_error: 0.3446\n",
      "Epoch 23/25\n",
      " - 168s - loss: 0.3720 - mean_squared_error: 0.3526 - val_loss: 0.3439 - val_mean_squared_error: 0.3439\n",
      "Epoch 24/25\n",
      " - 167s - loss: 0.3699 - mean_squared_error: 0.3506 - val_loss: 0.3432 - val_mean_squared_error: 0.3432\n",
      "Epoch 25/25\n",
      " - 167s - loss: 0.3675 - mean_squared_error: 0.3483 - val_loss: 0.3432 - val_mean_squared_error: 0.3432\n",
      "==================================================\n",
      "Step 12\n",
      "==================================================\n",
      "Train on 1340120 samples, validate on 167515 samples\n",
      "Epoch 1/25\n",
      " - 177s - loss: 0.9167 - mean_squared_error: 0.8699 - val_loss: 0.6431 - val_mean_squared_error: 0.6431\n",
      "Epoch 2/25\n",
      " - 167s - loss: 0.5761 - mean_squared_error: 0.5460 - val_loss: 0.5305 - val_mean_squared_error: 0.5305\n",
      "Epoch 3/25\n",
      " - 167s - loss: 0.5373 - mean_squared_error: 0.5093 - val_loss: 0.5301 - val_mean_squared_error: 0.5301\n",
      "Epoch 4/25\n",
      " - 167s - loss: 0.5132 - mean_squared_error: 0.4866 - val_loss: 0.5293 - val_mean_squared_error: 0.5293\n",
      "Epoch 5/25\n",
      " - 167s - loss: 0.4936 - mean_squared_error: 0.4681 - val_loss: 0.5283 - val_mean_squared_error: 0.5283\n",
      "Epoch 6/25\n",
      " - 167s - loss: 0.4804 - mean_squared_error: 0.4557 - val_loss: 0.5126 - val_mean_squared_error: 0.5126\n",
      "Epoch 7/25\n",
      " - 168s - loss: 0.4682 - mean_squared_error: 0.4442 - val_loss: 0.4944 - val_mean_squared_error: 0.4944\n",
      "Epoch 8/25\n",
      " - 167s - loss: 0.4598 - mean_squared_error: 0.4363 - val_loss: 0.4764 - val_mean_squared_error: 0.4764\n",
      "Epoch 9/25\n",
      " - 167s - loss: 0.4517 - mean_squared_error: 0.4287 - val_loss: 0.4640 - val_mean_squared_error: 0.4640\n",
      "Epoch 10/25\n",
      " - 167s - loss: 0.4447 - mean_squared_error: 0.4221 - val_loss: 0.4566 - val_mean_squared_error: 0.4566\n",
      "Epoch 11/25\n",
      " - 167s - loss: 0.4378 - mean_squared_error: 0.4156 - val_loss: 0.4371 - val_mean_squared_error: 0.4371\n",
      "Epoch 12/25\n",
      " - 168s - loss: 0.4324 - mean_squared_error: 0.4104 - val_loss: 0.4230 - val_mean_squared_error: 0.4230\n",
      "Epoch 13/25\n",
      " - 167s - loss: 0.4265 - mean_squared_error: 0.4049 - val_loss: 0.4153 - val_mean_squared_error: 0.4153\n",
      "Epoch 14/25\n",
      " - 168s - loss: 0.4223 - mean_squared_error: 0.4009 - val_loss: 0.3985 - val_mean_squared_error: 0.3985\n",
      "Epoch 15/25\n",
      " - 167s - loss: 0.4164 - mean_squared_error: 0.3952 - val_loss: 0.3941 - val_mean_squared_error: 0.3941\n",
      "Epoch 16/25\n",
      " - 167s - loss: 0.4127 - mean_squared_error: 0.3917 - val_loss: 0.3888 - val_mean_squared_error: 0.3888\n",
      "Epoch 17/25\n",
      " - 167s - loss: 0.4089 - mean_squared_error: 0.3881 - val_loss: 0.3778 - val_mean_squared_error: 0.3778\n",
      "Epoch 18/25\n",
      " - 167s - loss: 0.4048 - mean_squared_error: 0.3842 - val_loss: 0.3702 - val_mean_squared_error: 0.3702\n",
      "Epoch 19/25\n",
      " - 167s - loss: 0.4017 - mean_squared_error: 0.3813 - val_loss: 0.3647 - val_mean_squared_error: 0.3647\n",
      "Epoch 20/25\n",
      " - 167s - loss: 0.3977 - mean_squared_error: 0.3774 - val_loss: 0.3642 - val_mean_squared_error: 0.3642\n",
      "Epoch 21/25\n",
      " - 167s - loss: 0.3943 - mean_squared_error: 0.3742 - val_loss: 0.3619 - val_mean_squared_error: 0.3619\n",
      "Epoch 22/25\n",
      " - 167s - loss: 0.3922 - mean_squared_error: 0.3722 - val_loss: 0.3535 - val_mean_squared_error: 0.3535\n",
      "Epoch 23/25\n",
      " - 168s - loss: 0.3893 - mean_squared_error: 0.3694 - val_loss: 0.3518 - val_mean_squared_error: 0.3518\n",
      "Epoch 24/25\n",
      " - 168s - loss: 0.3869 - mean_squared_error: 0.3671 - val_loss: 0.3525 - val_mean_squared_error: 0.3525\n",
      "Epoch 25/25\n",
      " - 167s - loss: 0.3836 - mean_squared_error: 0.3640 - val_loss: 0.3487 - val_mean_squared_error: 0.3487\n",
      "==================================================\n",
      "Step 13\n",
      "==================================================\n",
      "Train on 1340120 samples, validate on 167515 samples\n",
      "Epoch 1/25\n",
      " - 176s - loss: 0.9265 - mean_squared_error: 0.8760 - val_loss: 0.5769 - val_mean_squared_error: 0.5769\n",
      "Epoch 2/25\n",
      " - 167s - loss: 0.5982 - mean_squared_error: 0.5658 - val_loss: 0.5262 - val_mean_squared_error: 0.5262\n",
      "Epoch 3/25\n",
      " - 168s - loss: 0.5649 - mean_squared_error: 0.5345 - val_loss: 0.5371 - val_mean_squared_error: 0.5371\n",
      "Epoch 4/25\n",
      " - 168s - loss: 0.5402 - mean_squared_error: 0.5114 - val_loss: 0.5411 - val_mean_squared_error: 0.5411\n",
      "Epoch 5/25\n",
      " - 167s - loss: 0.5226 - mean_squared_error: 0.4947 - val_loss: 0.5282 - val_mean_squared_error: 0.5282\n",
      "Epoch 6/25\n",
      " - 167s - loss: 0.5092 - mean_squared_error: 0.4821 - val_loss: 0.5175 - val_mean_squared_error: 0.5175\n",
      "Epoch 7/25\n",
      " - 167s - loss: 0.4951 - mean_squared_error: 0.4689 - val_loss: 0.4946 - val_mean_squared_error: 0.4946\n",
      "Epoch 8/25\n",
      " - 168s - loss: 0.4838 - mean_squared_error: 0.4581 - val_loss: 0.4768 - val_mean_squared_error: 0.4768\n",
      "Epoch 9/25\n",
      " - 169s - loss: 0.4744 - mean_squared_error: 0.4492 - val_loss: 0.4615 - val_mean_squared_error: 0.4615\n",
      "Epoch 10/25\n",
      " - 167s - loss: 0.4660 - mean_squared_error: 0.4413 - val_loss: 0.4452 - val_mean_squared_error: 0.4452\n",
      "Epoch 11/25\n",
      " - 168s - loss: 0.4581 - mean_squared_error: 0.4338 - val_loss: 0.4310 - val_mean_squared_error: 0.4310\n",
      "Epoch 12/25\n",
      " - 168s - loss: 0.4500 - mean_squared_error: 0.4261 - val_loss: 0.4186 - val_mean_squared_error: 0.4186\n",
      "Epoch 13/25\n",
      " - 168s - loss: 0.4440 - mean_squared_error: 0.4203 - val_loss: 0.4104 - val_mean_squared_error: 0.4104\n",
      "Epoch 14/25\n",
      " - 169s - loss: 0.4385 - mean_squared_error: 0.4151 - val_loss: 0.3990 - val_mean_squared_error: 0.3990\n",
      "Epoch 15/25\n",
      " - 168s - loss: 0.4327 - mean_squared_error: 0.4096 - val_loss: 0.3859 - val_mean_squared_error: 0.3859\n",
      "Epoch 16/25\n",
      " - 167s - loss: 0.4264 - mean_squared_error: 0.4035 - val_loss: 0.3756 - val_mean_squared_error: 0.3756\n",
      "Epoch 17/25\n",
      " - 167s - loss: 0.4218 - mean_squared_error: 0.3991 - val_loss: 0.3739 - val_mean_squared_error: 0.3739\n",
      "Epoch 18/25\n",
      " - 167s - loss: 0.4173 - mean_squared_error: 0.3948 - val_loss: 0.3662 - val_mean_squared_error: 0.3662\n",
      "Epoch 19/25\n",
      " - 168s - loss: 0.4131 - mean_squared_error: 0.3907 - val_loss: 0.3629 - val_mean_squared_error: 0.3629\n",
      "Epoch 20/25\n",
      " - 168s - loss: 0.4098 - mean_squared_error: 0.3876 - val_loss: 0.3559 - val_mean_squared_error: 0.3559\n",
      "Epoch 21/25\n",
      " - 168s - loss: 0.4054 - mean_squared_error: 0.3833 - val_loss: 0.3541 - val_mean_squared_error: 0.3541\n",
      "Epoch 22/25\n",
      " - 167s - loss: 0.4022 - mean_squared_error: 0.3803 - val_loss: 0.3492 - val_mean_squared_error: 0.3492\n",
      "Epoch 23/25\n",
      " - 168s - loss: 0.3986 - mean_squared_error: 0.3768 - val_loss: 0.3483 - val_mean_squared_error: 0.3483\n",
      "Epoch 24/25\n",
      " - 170s - loss: 0.3947 - mean_squared_error: 0.3732 - val_loss: 0.3495 - val_mean_squared_error: 0.3495\n",
      "Epoch 25/25\n",
      " - 168s - loss: 0.3924 - mean_squared_error: 0.3710 - val_loss: 0.3461 - val_mean_squared_error: 0.3461\n",
      "==================================================\n",
      "Step 14\n",
      "==================================================\n",
      "Train on 1340120 samples, validate on 167515 samples\n",
      "Epoch 1/25\n",
      " - 177s - loss: 0.9433 - mean_squared_error: 0.8924 - val_loss: 0.4932 - val_mean_squared_error: 0.4932\n",
      "Epoch 2/25\n",
      " - 168s - loss: 0.5761 - mean_squared_error: 0.5444 - val_loss: 0.4511 - val_mean_squared_error: 0.4511\n",
      "Epoch 3/25\n",
      " - 169s - loss: 0.5443 - mean_squared_error: 0.5145 - val_loss: 0.4952 - val_mean_squared_error: 0.4952\n",
      "Epoch 4/25\n",
      " - 168s - loss: 0.5228 - mean_squared_error: 0.4946 - val_loss: 0.5353 - val_mean_squared_error: 0.5353\n",
      "Epoch 5/25\n",
      " - 168s - loss: 0.5046 - mean_squared_error: 0.4776 - val_loss: 0.5373 - val_mean_squared_error: 0.5373\n",
      "Epoch 6/25\n",
      " - 168s - loss: 0.4891 - mean_squared_error: 0.4634 - val_loss: 0.5128 - val_mean_squared_error: 0.5128\n",
      "Epoch 7/25\n",
      " - 168s - loss: 0.4761 - mean_squared_error: 0.4512 - val_loss: 0.4845 - val_mean_squared_error: 0.4845\n",
      "Epoch 8/25\n",
      " - 168s - loss: 0.4660 - mean_squared_error: 0.4418 - val_loss: 0.4582 - val_mean_squared_error: 0.4582\n",
      "Epoch 9/25\n",
      " - 168s - loss: 0.4581 - mean_squared_error: 0.4344 - val_loss: 0.4382 - val_mean_squared_error: 0.4382\n",
      "Epoch 10/25\n",
      " - 167s - loss: 0.4513 - mean_squared_error: 0.4281 - val_loss: 0.4243 - val_mean_squared_error: 0.4243\n",
      "Epoch 11/25\n",
      " - 168s - loss: 0.4441 - mean_squared_error: 0.4213 - val_loss: 0.4080 - val_mean_squared_error: 0.4080\n"
     ]
    },
    {
     "name": "stdout",
     "output_type": "stream",
     "text": [
      "Epoch 12/25\n",
      " - 168s - loss: 0.4387 - mean_squared_error: 0.4162 - val_loss: 0.3923 - val_mean_squared_error: 0.3923\n",
      "Epoch 13/25\n",
      " - 167s - loss: 0.4336 - mean_squared_error: 0.4113 - val_loss: 0.3797 - val_mean_squared_error: 0.3797\n",
      "Epoch 14/25\n",
      " - 168s - loss: 0.4276 - mean_squared_error: 0.4055 - val_loss: 0.3750 - val_mean_squared_error: 0.3750\n",
      "Epoch 15/25\n",
      " - 168s - loss: 0.4233 - mean_squared_error: 0.4014 - val_loss: 0.3661 - val_mean_squared_error: 0.3661\n",
      "Epoch 16/25\n",
      " - 168s - loss: 0.4188 - mean_squared_error: 0.3971 - val_loss: 0.3570 - val_mean_squared_error: 0.3570\n",
      "Epoch 17/25\n",
      " - 168s - loss: 0.4150 - mean_squared_error: 0.3935 - val_loss: 0.3494 - val_mean_squared_error: 0.3494\n",
      "Epoch 18/25\n",
      " - 167s - loss: 0.4106 - mean_squared_error: 0.3893 - val_loss: 0.3424 - val_mean_squared_error: 0.3424\n",
      "Epoch 19/25\n",
      " - 168s - loss: 0.4076 - mean_squared_error: 0.3864 - val_loss: 0.3442 - val_mean_squared_error: 0.3442\n",
      "Epoch 20/25\n",
      " - 169s - loss: 0.4038 - mean_squared_error: 0.3828 - val_loss: 0.3373 - val_mean_squared_error: 0.3373\n",
      "Epoch 21/25\n",
      " - 168s - loss: 0.4008 - mean_squared_error: 0.3798 - val_loss: 0.3382 - val_mean_squared_error: 0.3382\n",
      "Epoch 22/25\n",
      " - 168s - loss: 0.3974 - mean_squared_error: 0.3767 - val_loss: 0.3361 - val_mean_squared_error: 0.3361\n",
      "Epoch 23/25\n",
      " - 168s - loss: 0.3949 - mean_squared_error: 0.3742 - val_loss: 0.3351 - val_mean_squared_error: 0.3351\n",
      "Epoch 24/25\n",
      " - 168s - loss: 0.3919 - mean_squared_error: 0.3713 - val_loss: 0.3318 - val_mean_squared_error: 0.3318\n",
      "Epoch 25/25\n",
      " - 168s - loss: 0.3890 - mean_squared_error: 0.3686 - val_loss: 0.3334 - val_mean_squared_error: 0.3334\n",
      "==================================================\n",
      "Step 15\n",
      "==================================================\n",
      "Train on 1340120 samples, validate on 167515 samples\n",
      "Epoch 1/25\n",
      " - 178s - loss: 0.8031 - mean_squared_error: 0.7574 - val_loss: 0.5534 - val_mean_squared_error: 0.5534\n",
      "Epoch 2/25\n",
      " - 169s - loss: 0.5387 - mean_squared_error: 0.5089 - val_loss: 0.4709 - val_mean_squared_error: 0.4709\n",
      "Epoch 3/25\n",
      " - 169s - loss: 0.5035 - mean_squared_error: 0.4763 - val_loss: 0.4844 - val_mean_squared_error: 0.4844\n",
      "Epoch 4/25\n",
      " - 171s - loss: 0.4792 - mean_squared_error: 0.4540 - val_loss: 0.5039 - val_mean_squared_error: 0.5039\n",
      "Epoch 5/25\n",
      " - 171s - loss: 0.4613 - mean_squared_error: 0.4376 - val_loss: 0.5025 - val_mean_squared_error: 0.5025\n",
      "Epoch 6/25\n",
      " - 169s - loss: 0.4467 - mean_squared_error: 0.4242 - val_loss: 0.4894 - val_mean_squared_error: 0.4894\n",
      "Epoch 7/25\n",
      " - 170s - loss: 0.4363 - mean_squared_error: 0.4146 - val_loss: 0.4704 - val_mean_squared_error: 0.4704\n",
      "Epoch 8/25\n",
      " - 170s - loss: 0.4276 - mean_squared_error: 0.4065 - val_loss: 0.4510 - val_mean_squared_error: 0.4510\n",
      "Epoch 9/25\n",
      " - 173s - loss: 0.4206 - mean_squared_error: 0.4000 - val_loss: 0.4386 - val_mean_squared_error: 0.4386\n",
      "Epoch 10/25\n",
      " - 172s - loss: 0.4142 - mean_squared_error: 0.3940 - val_loss: 0.4206 - val_mean_squared_error: 0.4206\n",
      "Epoch 11/25\n",
      " - 167s - loss: 0.4070 - mean_squared_error: 0.3873 - val_loss: 0.4021 - val_mean_squared_error: 0.4021\n",
      "Epoch 12/25\n",
      " - 168s - loss: 0.4020 - mean_squared_error: 0.3825 - val_loss: 0.3867 - val_mean_squared_error: 0.3867\n",
      "Epoch 13/25\n",
      " - 168s - loss: 0.3972 - mean_squared_error: 0.3780 - val_loss: 0.3750 - val_mean_squared_error: 0.3750\n",
      "Epoch 14/25\n",
      " - 169s - loss: 0.3933 - mean_squared_error: 0.3742 - val_loss: 0.3644 - val_mean_squared_error: 0.3644\n",
      "Epoch 15/25\n",
      " - 172s - loss: 0.3891 - mean_squared_error: 0.3703 - val_loss: 0.3556 - val_mean_squared_error: 0.3556\n",
      "Epoch 16/25\n",
      " - 169s - loss: 0.3849 - mean_squared_error: 0.3663 - val_loss: 0.3463 - val_mean_squared_error: 0.3463\n",
      "Epoch 17/25\n",
      " - 171s - loss: 0.3812 - mean_squared_error: 0.3628 - val_loss: 0.3462 - val_mean_squared_error: 0.3462\n",
      "Epoch 18/25\n",
      " - 171s - loss: 0.3775 - mean_squared_error: 0.3593 - val_loss: 0.3375 - val_mean_squared_error: 0.3375\n",
      "Epoch 19/25\n",
      " - 169s - loss: 0.3747 - mean_squared_error: 0.3566 - val_loss: 0.3345 - val_mean_squared_error: 0.3345\n",
      "Epoch 20/25\n",
      " - 170s - loss: 0.3716 - mean_squared_error: 0.3537 - val_loss: 0.3315 - val_mean_squared_error: 0.3315\n",
      "Epoch 21/25\n",
      " - 172s - loss: 0.3690 - mean_squared_error: 0.3512 - val_loss: 0.3265 - val_mean_squared_error: 0.3265\n",
      "Epoch 22/25\n",
      " - 171s - loss: 0.3659 - mean_squared_error: 0.3482 - val_loss: 0.3240 - val_mean_squared_error: 0.3240\n",
      "Epoch 23/25\n",
      " - 170s - loss: 0.3632 - mean_squared_error: 0.3456 - val_loss: 0.3254 - val_mean_squared_error: 0.3254\n",
      "Epoch 24/25\n",
      " - 172s - loss: 0.3613 - mean_squared_error: 0.3438 - val_loss: 0.3208 - val_mean_squared_error: 0.3208\n",
      "Epoch 25/25\n",
      " - 171s - loss: 0.3590 - mean_squared_error: 0.3416 - val_loss: 0.3183 - val_mean_squared_error: 0.3183\n",
      "==================================================\n",
      "Step 16\n",
      "==================================================\n",
      "Train on 1340120 samples, validate on 167515 samples\n",
      "Epoch 1/25\n",
      " - 182s - loss: 0.9042 - mean_squared_error: 0.8552 - val_loss: 0.5105 - val_mean_squared_error: 0.5105\n",
      "Epoch 2/25\n",
      " - 172s - loss: 0.5692 - mean_squared_error: 0.5381 - val_loss: 0.4601 - val_mean_squared_error: 0.4601\n",
      "Epoch 3/25\n",
      " - 171s - loss: 0.5385 - mean_squared_error: 0.5092 - val_loss: 0.4924 - val_mean_squared_error: 0.4924\n",
      "Epoch 4/25\n",
      " - 171s - loss: 0.5174 - mean_squared_error: 0.4891 - val_loss: 0.5410 - val_mean_squared_error: 0.5410\n",
      "Epoch 5/25\n",
      " - 170s - loss: 0.5008 - mean_squared_error: 0.4735 - val_loss: 0.5620 - val_mean_squared_error: 0.5620\n",
      "Epoch 6/25\n",
      " - 169s - loss: 0.4873 - mean_squared_error: 0.4607 - val_loss: 0.5572 - val_mean_squared_error: 0.5572\n",
      "Epoch 7/25\n",
      " - 170s - loss: 0.4754 - mean_squared_error: 0.4495 - val_loss: 0.5329 - val_mean_squared_error: 0.5329\n",
      "Epoch 8/25\n",
      " - 170s - loss: 0.4660 - mean_squared_error: 0.4407 - val_loss: 0.5052 - val_mean_squared_error: 0.5052\n",
      "Epoch 9/25\n",
      " - 169s - loss: 0.4578 - mean_squared_error: 0.4329 - val_loss: 0.4858 - val_mean_squared_error: 0.4858\n",
      "Epoch 10/25\n",
      "\n",
      "Epoch 00010: reducing learning rate to 0.00010000000474974513.\n",
      " - 172s - loss: 0.4490 - mean_squared_error: 0.4247 - val_loss: 0.4646 - val_mean_squared_error: 0.4646\n",
      "Epoch 11/25\n",
      " - 169s - loss: 0.4448 - mean_squared_error: 0.4208 - val_loss: 0.4516 - val_mean_squared_error: 0.4516\n",
      "Epoch 12/25\n",
      " - 169s - loss: 0.4445 - mean_squared_error: 0.4206 - val_loss: 0.4367 - val_mean_squared_error: 0.4367\n",
      "Epoch 13/25\n",
      " - 168s - loss: 0.4437 - mean_squared_error: 0.4198 - val_loss: 0.4237 - val_mean_squared_error: 0.4237\n",
      "Epoch 14/25\n",
      " - 168s - loss: 0.4423 - mean_squared_error: 0.4185 - val_loss: 0.4125 - val_mean_squared_error: 0.4125\n",
      "Epoch 15/25\n",
      " - 169s - loss: 0.4415 - mean_squared_error: 0.4178 - val_loss: 0.4001 - val_mean_squared_error: 0.4001\n",
      "Epoch 16/25\n",
      " - 169s - loss: 0.4410 - mean_squared_error: 0.4173 - val_loss: 0.3898 - val_mean_squared_error: 0.3898\n",
      "Epoch 17/25\n",
      " - 168s - loss: 0.4406 - mean_squared_error: 0.4170 - val_loss: 0.3806 - val_mean_squared_error: 0.3806\n",
      "Epoch 18/25\n",
      " - 168s - loss: 0.4386 - mean_squared_error: 0.4150 - val_loss: 0.3748 - val_mean_squared_error: 0.3748\n",
      "Epoch 19/25\n",
      " - 167s - loss: 0.4382 - mean_squared_error: 0.4146 - val_loss: 0.3671 - val_mean_squared_error: 0.3671\n",
      "Epoch 20/25\n",
      " - 169s - loss: 0.4378 - mean_squared_error: 0.4142 - val_loss: 0.3601 - val_mean_squared_error: 0.3601\n",
      "Epoch 21/25\n",
      " - 168s - loss: 0.4368 - mean_squared_error: 0.4133 - val_loss: 0.3556 - val_mean_squared_error: 0.3556\n",
      "Epoch 22/25\n",
      " - 168s - loss: 0.4361 - mean_squared_error: 0.4126 - val_loss: 0.3513 - val_mean_squared_error: 0.3513\n",
      "Epoch 23/25\n",
      " - 168s - loss: 0.4355 - mean_squared_error: 0.4121 - val_loss: 0.3494 - val_mean_squared_error: 0.3494\n",
      "Epoch 24/25\n",
      " - 168s - loss: 0.4334 - mean_squared_error: 0.4101 - val_loss: 0.3457 - val_mean_squared_error: 0.3457\n",
      "Epoch 25/25\n",
      " - 169s - loss: 0.4331 - mean_squared_error: 0.4098 - val_loss: 0.3445 - val_mean_squared_error: 0.3445\n"
     ]
    }
   ],
   "source": [
    "N_EPOCHS = 25\n",
    "\n",
    "val_pred = []\n",
    "test_pred = []\n",
    "# wtpath = 'weights.hdf5'  # To save best epoch. But need Keras bug to be fixed first.\n",
    "sample_weights=np.array( pd.concat([items[\"perishable\"]] * num_days) * 0.25 + 1 )\n",
    "for j in range(16):\n",
    "    print(\"=\" * 50)\n",
    "    print(\"Step %d\" % (j+1))\n",
    "    print(\"=\" * 50)\n",
    "    \n",
    "    idx = list(range(743))+[i for i, item in enumerate(X_train.columns.values) if (item.endswith('_%s' % j) and item.startswith('dom'))]\n",
    "    \n",
    "    X_train_model = X_train.as_matrix()[:,idx]\n",
    "    X_val_model = X_val.as_matrix()[:,idx]\n",
    "    X_test_model = X_test.as_matrix()[:,idx]\n",
    "    \n",
    "    X_train_model = X_train_model.reshape((X_train_model.shape[0], 1, X_train_model.shape[1]))\n",
    "    X_test_model = X_test_model.reshape((X_test_model.shape[0], 1, X_test_model.shape[1]))\n",
    "    X_val_model = X_val_model.reshape((X_val_model.shape[0], 1, X_val_model.shape[1]))\n",
    "    \n",
    "    y = y_train[:, j]\n",
    "    y_mean = y.mean()\n",
    "    xv = X_val_model\n",
    "    yv = y_val[:, j]\n",
    "    model = build_model()\n",
    "    opt = optimizers.Adam(lr=0.001)\n",
    "    model.compile(loss='mse', optimizer=opt, metrics=['mse'])\n",
    "\n",
    "    callbacks = [\n",
    "        ReduceLROnPlateau(monitor='val_loss', factor=0.1, patience=7, verbose=1, epsilon=1e-4, mode='min')\n",
    "        ]\n",
    "    model.fit(X_train_model, y - y_mean, batch_size = 65536, epochs = N_EPOCHS, verbose=2,\n",
    "               sample_weight=sample_weights, validation_data=(xv,yv-y_mean), callbacks=callbacks )\n",
    "    val_pred.append(model.predict(X_val_model)+y_mean)\n",
    "    test_pred.append(model.predict(X_test_model)+y_mean)"
   ]
  },
  {
   "cell_type": "code",
   "execution_count": null,
   "metadata": {},
   "outputs": [],
   "source": [
    "## calculate the overall error for the validation data "
   ]
  },
  {
   "cell_type": "code",
   "execution_count": 263,
   "metadata": {},
   "outputs": [
    {
     "name": "stdout",
     "output_type": "stream",
     "text": [
      "nwrmsle = 0.5799981848527513\n"
     ]
    }
   ],
   "source": [
    "weight = items[\"perishable\"] * 0.25 + 1\n",
    "err = (y_val - np.array(val_pred).squeeze(axis=2).transpose())**2\n",
    "err = err.sum(axis=1) * weight\n",
    "err = np.sqrt(err.sum() / weight.sum() / 16)\n",
    "print('nwrmsle = {}'.format(err))"
   ]
  },
  {
   "cell_type": "code",
   "execution_count": 274,
   "metadata": {
    "collapsed": true
   },
   "outputs": [],
   "source": [
    "## Write out validation predictions for plotting\n",
    "y_val = np.array(val_pred).squeeze(axis=2).transpose()\n",
    "df_preds = pd.DataFrame(\n",
    "    y_val, index=df_2017.index,\n",
    "    columns=pd.date_range(\"2017-07-26\", periods=16)\n",
    ").stack().to_frame(\"unit_sales\")\n",
    "df_preds.index.set_names([\"store_nbr\", \"item_nbr\", \"date\"], inplace=True)\n",
    "df_preds[\"unit_sales\"] = np.clip(np.expm1(df_preds[\"unit_sales\"]), 0, 1000)\n",
    "df_preds.reset_index().to_csv('nn_cv.csv', index=False)"
   ]
  },
  {
   "cell_type": "code",
   "execution_count": 265,
   "metadata": {},
   "outputs": [
    {
     "name": "stdout",
     "output_type": "stream",
     "text": [
      "Making submission...\n"
     ]
    }
   ],
   "source": [
    "print(\"Making submission...\")\n",
    "y_test = np.array(test_pred).squeeze(axis=2).transpose()\n",
    "df_preds = pd.DataFrame(\n",
    "    y_test, index=df_2017.index,\n",
    "    columns=pd.date_range(\"2017-08-16\", periods=16)\n",
    ").stack().to_frame(\"unit_sales\")\n",
    "df_preds.index.set_names([\"store_nbr\", \"item_nbr\", \"date\"], inplace=True)"
   ]
  },
  {
   "cell_type": "code",
   "execution_count": 266,
   "metadata": {
    "collapsed": true
   },
   "outputs": [],
   "source": [
    "submission = df_test[[\"id\"]].join(df_preds, how=\"left\").fillna(0)\n",
    "submission[\"unit_sales\"] = np.clip(np.expm1(submission[\"unit_sales\"]), 0, 1000)\n",
    "submission.to_csv('nn_sub.csv', float_format='%.4f', index=None)"
   ]
  }
 ],
 "metadata": {
  "kernelspec": {
   "display_name": "Python 3",
   "language": "python",
   "name": "python3"
  },
  "language_info": {
   "codemirror_mode": {
    "name": "ipython",
    "version": 3
   },
   "file_extension": ".py",
   "mimetype": "text/x-python",
   "name": "python",
   "nbconvert_exporter": "python",
   "pygments_lexer": "ipython3",
   "version": "3.6.3"
  }
 },
 "nbformat": 4,
 "nbformat_minor": 2
}
